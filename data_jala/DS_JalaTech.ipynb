{
  "cells": [
    {
      "cell_type": "markdown",
      "metadata": {
        "id": "M4Xx1uxATSxc"
      },
      "source": [
        "Import Library"
      ]
    },
    {
      "cell_type": "code",
      "execution_count": 4,
      "metadata": {
        "id": "0ea3ztZFTJGq"
      },
      "outputs": [],
      "source": [
        "import pandas as pd\n"
      ]
    },
    {
      "cell_type": "markdown",
      "metadata": {
        "id": "_ODXpG1-VI0U"
      },
      "source": [
        "Import Data"
      ]
    },
    {
      "cell_type": "code",
      "execution_count": 5,
      "metadata": {
        "id": "lv6nOQ27UqGR"
      },
      "outputs": [],
      "source": [
        "import pandas as pd\n",
        "\n",
        "# Import data dari file cycles.csv\n",
        "data_cycles = pd.read_csv(\"/workspaces/DS_JalaTech/Data/cycles.csv\")\n",
        "\n",
        "# Import data dari file farms.csv\n",
        "data_farms = pd.read_csv(\"/workspaces/DS_JalaTech/Data/farms.csv\")\n",
        "\n",
        "# Import data dari file fasting.csv\n",
        "data_fasting = pd.read_csv(\"/workspaces/DS_JalaTech/Data/fasting.csv\")\n",
        "\n",
        "# Import data dari file fastings.csv\n",
        "data_fastings = pd.read_csv(\"/workspaces/DS_JalaTech/Data/fastings.csv\")\n",
        "\n",
        "# Import data dari file feed_tray.csv\n",
        "data_feed_tray = pd.read_csv(\"/workspaces/DS_JalaTech/Data/feed_tray.csv\")\n",
        "\n",
        "# Import data dari file feeds.csv\n",
        "data_feeds = pd.read_csv(\"/workspaces/DS_JalaTech/Data/feeds.csv\")\n",
        "\n",
        "# Import data dari file harvests.csv\n",
        "data_harvests = pd.read_csv(\"/workspaces/DS_JalaTech/Data/harvests.csv\")\n",
        "\n",
        "# Import data dari file measurements.csv\n",
        "data_measurements = pd.read_csv(r\"/workspaces/DS_JalaTech/Data/measurements.csv\")\n",
        "\n",
        "# Import data dari file mortalities.csv\n",
        "data_mortalities = pd.read_csv(\"/workspaces/DS_JalaTech/Data/mortalities.csv\")\n",
        "\n",
        "# Import data dari file ponds.csv\n",
        "data_ponds = pd.read_csv(\"/workspaces/DS_JalaTech/Data/ponds.csv\")\n",
        "\n",
        "# Import data dari file samplings.csv\n",
        "data_samplings = pd.read_csv(\"/workspaces/DS_JalaTech/Data/samplings.csv\")\n"
      ]
    },
    {
      "cell_type": "markdown",
      "metadata": {
        "id": "mQWYQ2QDVdG-"
      },
      "source": [
        "Cek data lengkap"
      ]
    },
    {
      "cell_type": "markdown",
      "metadata": {
        "id": "5VtCX9qUgI6V"
      },
      "source": [
        "Ukuran Data dan konten data"
      ]
    },
    {
      "cell_type": "code",
      "execution_count": 3,
      "metadata": {
        "colab": {
          "base_uri": "https://localhost:8080/"
        },
        "id": "DZcU01MOWepk",
        "outputId": "e24bb0e9-4ed9-4434-ae9d-6f519cbc223c"
      },
      "outputs": [
        {
          "name": "stdout",
          "output_type": "stream",
          "text": [
            "\n",
            "Analisis Ukuran Data:\n",
            "- data_cycles: (2617, 24)\n",
            "- data_farms: (551, 4)\n",
            "- data_fasting: (6189, 3)\n",
            "- data_fastings: (32379, 3)\n",
            "- data_feed_tray: (186664, 10)\n",
            "- data_feeds: (706908, 3)\n",
            "- data_harvests: (8087, 9)\n",
            "- data_measurements: (139050, 24)\n",
            "- data_mortalities: (13221, 7)\n",
            "- data_ponds: (338, 10)\n",
            "- data_samplings: (15032, 7)\n"
          ]
        }
      ],
      "source": [
        "# Analisis ukuran dan konten data\n",
        "\n",
        "print(\"\\nAnalisis Ukuran Data:\")\n",
        "for df, name in zip(\n",
        "    [\n",
        "        data_cycles,\n",
        "        data_farms,\n",
        "        data_fasting,\n",
        "        data_fastings,\n",
        "        data_feed_tray,\n",
        "        data_feeds,\n",
        "        data_harvests,\n",
        "        data_measurements,\n",
        "        data_mortalities,\n",
        "        data_ponds,\n",
        "        data_samplings,\n",
        "    ],\n",
        "    [\n",
        "        \"data_cycles\",\n",
        "        \"data_farms\",\n",
        "        \"data_fasting\",\n",
        "        \"data_fastings\",\n",
        "        \"data_feed_tray\",\n",
        "        \"data_feeds\",\n",
        "        \"data_harvests\",\n",
        "        \"data_measurements\",\n",
        "        \"data_mortalities\",\n",
        "        \"data_ponds\",\n",
        "        \"data_samplings\",\n",
        "    ],\n",
        "):\n",
        "    print(f\"- {name}: {df.shape}\")\n"
      ]
    },
    {
      "cell_type": "markdown",
      "metadata": {
        "id": "WaQZMRiqgUhA"
      },
      "source": [
        "Periksa duplikat"
      ]
    },
    {
      "cell_type": "code",
      "execution_count": 4,
      "metadata": {
        "colab": {
          "base_uri": "https://localhost:8080/"
        },
        "id": "sgCleM7ngRHO",
        "outputId": "85677837-e7d5-411b-ff53-6a9facf47ed9"
      },
      "outputs": [
        {
          "name": "stdout",
          "output_type": "stream",
          "text": [
            "\n",
            "Analisis Duplikat:\n",
            "- data_cycles: 50\n",
            "- data_farms: 0\n",
            "- data_fasting: 67\n",
            "- data_fastings: 185\n",
            "- data_feed_tray: 0\n",
            "- data_feeds: 154995\n",
            "- data_harvests: 0\n",
            "- data_measurements: 0\n",
            "- data_mortalities: 0\n",
            "- data_ponds: 0\n",
            "- data_samplings: 0\n"
          ]
        }
      ],
      "source": [
        "# Periksa duplikat\n",
        "\n",
        "print(\"\\nAnalisis Duplikat:\")\n",
        "for df, name in zip(\n",
        "    [\n",
        "        data_cycles,\n",
        "        data_farms,\n",
        "        data_fasting,\n",
        "        data_fastings,\n",
        "        data_feed_tray,\n",
        "        data_feeds,\n",
        "        data_harvests,\n",
        "        data_measurements,\n",
        "        data_mortalities,\n",
        "        data_ponds,\n",
        "        data_samplings,\n",
        "    ],\n",
        "    [\n",
        "        \"data_cycles\",\n",
        "        \"data_farms\",\n",
        "        \"data_fasting\",\n",
        "        \"data_fastings\",\n",
        "        \"data_feed_tray\",\n",
        "        \"data_feeds\",\n",
        "        \"data_harvests\",\n",
        "        \"data_measurements\",\n",
        "        \"data_mortalities\",\n",
        "        \"data_ponds\",\n",
        "        \"data_samplings\",\n",
        "    ],\n",
        "):\n",
        "    print(f\"- {name}: {df.duplicated().sum()}\")"
      ]
    },
    {
      "cell_type": "markdown",
      "metadata": {
        "id": "aMRwUKHLhCXu"
      },
      "source": [
        "Kesimpulan:\n",
        "*   data_cycles ,data_fasting,data_fastings,data_feed_tray, juga data_feeds masih memiliki banyak duplikat,\n",
        "*   sekaligus pada judul nama data antara data_fasting da\n",
        "data_fastings apakah sama/berbeda?(maka perlu dibuat berbeda)\n",
        "*  masih ada ketidakkonsistenan nama kolom tiap data dengan glosarium\n",
        "*   Langkah penting dalam menangani duplikat data adalah mengidentifikasi sumber duplikat. Lakukan investigasi untuk memahami akar penyebab duplikat dan mengambil langkah pencegahan di masa depan. Selanjutnya, tetapkan kriteria yang jelas dan konsisten untuk menentukan duplikat dalam konteks data Anda. Manfaatkan teknik penghapusan duplikat seperti `df.drop_duplicates()` atau algoritma deduplikasi khusus untuk membersihkan data. Jika duplikat mewakili entitas yang sama, pertimbangkan untuk mengagregasi data dengan tepat, misalnya dengan menghitung total pembelian per pelanggan. Penting untuk diingat bahwa tidak semua duplikat harus dihapus, keputusan harus didasarkan pada pemahaman yang baik tentang data dan tujuan analisis Anda.\n",
        "\n"
      ]
    },
    {
      "cell_type": "markdown",
      "metadata": {
        "id": "-5Gmm9DrgYUm"
      },
      "source": [
        "Cek Nilai Null"
      ]
    },
    {
      "cell_type": "code",
      "execution_count": 5,
      "metadata": {
        "colab": {
          "base_uri": "https://localhost:8080/"
        },
        "id": "7FBIArcaXQcM",
        "outputId": "a7887e87-b638-4aa5-e9d5-c7f25df814a8"
      },
      "outputs": [
        {
          "name": "stdout",
          "output_type": "stream",
          "text": [
            "\n",
            "Analisis Nilai Null:\n",
            "- data_cycles: id                           0\n",
            "pond_id                      0\n",
            "species_id                 814\n",
            "total_seed                   0\n",
            "started_at                   0\n",
            "finished_at                  1\n",
            "remark                    1281\n",
            "created_at                   0\n",
            "updated_at                   0\n",
            "area                         0\n",
            "initial_age                 48\n",
            "limit_weight_per_area        7\n",
            "target_cultivation_day       3\n",
            "target_size                  4\n",
            "extracted_at                 0\n",
            "subscription_type            0\n",
            "ordered_at                1523\n",
            "hatchery_id                465\n",
            "total_seed_type            242\n",
            "hatchery_name              465\n",
            "pond_name                    0\n",
            "pond_length                  6\n",
            "pond_width                   6\n",
            "pond_depth                 118\n",
            "dtype: int64\n",
            "- data_farms: id           0\n",
            "province    72\n",
            "regency     93\n",
            "timezone     0\n",
            "dtype: int64\n",
            "- data_fasting: logged_date     0\n",
            "cycle_id        0\n",
            "fasting        17\n",
            "dtype: int64\n",
            "- data_fastings: logged_date     0\n",
            "cycle_id        0\n",
            "fasting        40\n",
            "dtype: int64\n",
            "- data_feed_tray: id                             0\n",
            "logged_at                      0\n",
            "feed_logged_at                 0\n",
            "cycle_id                       0\n",
            "tray_number                    0\n",
            "feed_remaining_percent         0\n",
            "remark                    140283\n",
            "created_at                     0\n",
            "updated_at                     0\n",
            "local_feed_logged_at           0\n",
            "dtype: int64\n",
            "- data_feeds: cycle_id      0\n",
            "logged_at    21\n",
            "quantity     21\n",
            "dtype: int64\n",
            "- data_harvests: cycle_id            0\n",
            "updated_at          0\n",
            "size                0\n",
            "created_at          0\n",
            "weight              0\n",
            "id                  0\n",
            "harvested_at        0\n",
            "status            263\n",
            "selling_price    1793\n",
            "dtype: int64\n",
            "- data_measurements: pond_id                     0\n",
            "cycle_id                    0\n",
            "measured_date               0\n",
            "morning_temperature     41855\n",
            "evening_temperature     49839\n",
            "morning_do              61324\n",
            "evening_do              65098\n",
            "morning_salinity        46388\n",
            "evening_salinity        73957\n",
            "morning_pH              20115\n",
            "evening_pH              78101\n",
            "transparency            61750\n",
            "turbidity              138884\n",
            "ammonia                135302\n",
            "nitrate                136888\n",
            "nitrite                129293\n",
            "alkalinity             125533\n",
            "hardness               133525\n",
            "calcium                132458\n",
            "magnesium              132430\n",
            "carbonate              133762\n",
            "bicarbonate            132372\n",
            "tom                    131774\n",
            "total_plankton_        126429\n",
            "dtype: int64\n",
            "- data_mortalities: id                0\n",
            "cycle_id          0\n",
            "quantity          0\n",
            "recorded_at       0\n",
            "created_at        0\n",
            "updated_at        0\n",
            "average_weight    0\n",
            "dtype: int64\n",
            "- data_ponds: id                    0\n",
            "farm_id               0\n",
            "length               23\n",
            "width                29\n",
            "deep                 92\n",
            "created_at            0\n",
            "updated_at            0\n",
            "record_id             0\n",
            "extracted_at          0\n",
            "max_seed_density    203\n",
            "dtype: int64\n",
            "- data_samplings: cycle_id              0\n",
            "updated_at            0\n",
            "sampled_at            0\n",
            "created_at            0\n",
            "average_weight        0\n",
            "id                    0\n",
            "remark            13693\n",
            "dtype: int64\n"
          ]
        }
      ],
      "source": [
        "print(\"\\nAnalisis Nilai Null:\")\n",
        "for df, name in zip(\n",
        "    [\n",
        "        data_cycles,\n",
        "        data_farms,\n",
        "        data_fasting,\n",
        "        data_fastings,\n",
        "        data_feed_tray,\n",
        "        data_feeds,\n",
        "        data_harvests,\n",
        "        data_measurements,\n",
        "        data_mortalities,\n",
        "        data_ponds,\n",
        "        data_samplings,\n",
        "    ],\n",
        "    [\n",
        "        \"data_cycles\",\n",
        "        \"data_farms\",\n",
        "        \"data_fasting\",\n",
        "        \"data_fastings\",\n",
        "        \"data_feed_tray\",\n",
        "        \"data_feeds\",\n",
        "        \"data_harvests\",\n",
        "        \"data_measurements\",\n",
        "        \"data_mortalities\",\n",
        "        \"data_ponds\",\n",
        "        \"data_samplings\",\n",
        "    ],\n",
        "):\n",
        "    print(f\"- {name}: {df.isnull().sum()}\")"
      ]
    },
    {
      "cell_type": "markdown",
      "metadata": {
        "id": "5d_bX9kzrcMI"
      },
      "source": [
        "Kesimpulan:"
      ]
    },
    {
      "cell_type": "markdown",
      "metadata": {
        "id": "XRZfJXXUrfDh"
      },
      "source": [
        "\n",
        "\n",
        "*   Masih ada beberapa data yang memiliki nilai null\n",
        "*   Untuk menangani nilai null dalam data, ada beberapa strategi yang dapat diterapkan. Pertama, identifikasi lokasi dan penyebab nilai null serta analisis dampaknya pada model. Kemudian, pertimbangkan strategi penanganan seperti penghapusan atau imputasi nilai null. Gunakan teknik khusus jika diperlukan, seperti interpolasi untuk data time series. Pastikan konsistensi dalam menerapkan metode penanganan dan dokumentasikan metode yang digunakan. Evaluasi dampaknya pada performa model dan ingat bahwa nilai null dapat menurunkan akurasi, memperkenalkan bias, dan mempengaruhi interpretasi data.\n",
        "\n",
        "\n"
      ]
    },
    {
      "cell_type": "markdown",
      "metadata": {
        "id": "8lNqo_G7suGk"
      },
      "source": [
        "Catatan lain juga seperti, transformasi data adalah proses memodifikasi data sebelum dilakukan analisis. Beberapa teknik yang umum digunakan adalah normalisasi dan scaling, encoding data kategorikal, dan feature engineering. Selanjutnya, integrasi data melibatkan menggabungkan data dari sumber yang berbeda dan menangani inkonsistensi dalam format data. Opsionalnya, reduksi data dapat dilakukan melalui seleksi fitur atau teknik reduksi dimensi seperti Principal Component Analysis (PCA). Hal ini dapat membantu meningkatkan performa model analisis.\n"
      ]
    },
    {
      "cell_type": "markdown",
      "metadata": {
        "id": "4hZHOgphxD6K"
      },
      "source": [
        "Data Preprocessing"
      ]
    },
    {
      "cell_type": "markdown",
      "metadata": {
        "id": "JoEHcKvZxM9v"
      },
      "source": [
        "Drop duplicate"
      ]
    },
    {
      "cell_type": "code",
      "execution_count": 6,
      "metadata": {
        "colab": {
          "base_uri": "https://localhost:8080/"
        },
        "id": "ujunH0cQwgjE",
        "outputId": "fa785241-ca3c-41d8-91f5-52d2a637f3b5"
      },
      "outputs": [
        {
          "name": "stdout",
          "output_type": "stream",
          "text": [
            "\n",
            "Analisis Duplikat (setelah dihapus):\n",
            "- data_cycles: 0\n",
            "- data_farms: 0\n",
            "- data_fasting: 0\n",
            "- data_fastings: 0\n",
            "- data_feed_tray: 0\n",
            "- data_feeds: 0\n",
            "- data_harvests: 0\n",
            "- data_measurements: 0\n",
            "- data_mortalities: 0\n",
            "- data_ponds: 0\n",
            "- data_samplings: 0\n"
          ]
        }
      ],
      "source": [
        "# Now drop duplicates (consider inplace=True for efficiency)\n",
        "for df, name in zip(\n",
        "    [\n",
        "        data_cycles,\n",
        "        data_farms,\n",
        "        data_fasting,\n",
        "        data_fastings,\n",
        "        data_feed_tray,\n",
        "        data_feeds,\n",
        "        data_harvests,\n",
        "        data_measurements,\n",
        "        data_mortalities,\n",
        "        data_ponds,\n",
        "        data_samplings,\n",
        "    ],\n",
        "    [\n",
        "        \"data_cycles\",\n",
        "        \"data_farms\",\n",
        "        \"data_fasting\",\n",
        "        \"data_fastings\",\n",
        "        \"data_feed_tray\",\n",
        "        \"data_feeds\",\n",
        "        \"data_harvests\",\n",
        "        \"data_measurements\",\n",
        "        \"data_mortalities\",\n",
        "        \"data_ponds\",\n",
        "        \"data_samplings\",\n",
        "    ],\n",
        "):\n",
        "    df.drop_duplicates(inplace=True)  # Drop duplicates and modify DataFrame in-place\n",
        "\n",
        "# Print number of duplicates after dropping\n",
        "print(\"\\nAnalisis Duplikat (setelah dihapus):\")\n",
        "for df, name in zip(\n",
        "    [\n",
        "        data_cycles,\n",
        "        data_farms,\n",
        "        data_fasting,\n",
        "        data_fastings,\n",
        "        data_feed_tray,\n",
        "        data_feeds,\n",
        "        data_harvests,\n",
        "        data_measurements,\n",
        "        data_mortalities,\n",
        "        data_ponds,\n",
        "        data_samplings,\n",
        "    ],\n",
        "    [\n",
        "        \"data_cycles\",\n",
        "        \"data_farms\",\n",
        "        \"data_fasting\",\n",
        "        \"data_fastings\",\n",
        "        \"data_feed_tray\",\n",
        "        \"data_feeds\",\n",
        "        \"data_harvests\",\n",
        "        \"data_measurements\",\n",
        "        \"data_mortalities\",\n",
        "        \"data_ponds\",\n",
        "        \"data_samplings\",\n",
        "    ],\n",
        "):\n",
        "    print(f\"- {name}: {df.duplicated().sum()}\")  # Print number of duplicates remaining"
      ]
    },
    {
      "cell_type": "markdown",
      "metadata": {
        "id": "XQZhV6mcy1Dj"
      },
      "source": [
        "Drop Nilai Null  ( sementara, untuk langkah idealis seharusnya memastikan tiap kolom data diisi seperti apa/sumber null perlu dicari, namun karena kurang pengetahuan mengenai tentang ilmu peternakan udang/data cadangan tertulis(manual), saya hapus/drop untuk pengoptimalan data)"
      ]
    },
    {
      "cell_type": "code",
      "execution_count": 7,
      "metadata": {
        "colab": {
          "base_uri": "https://localhost:8080/"
        },
        "id": "uc1assYWxjKs",
        "outputId": "17cf9f31-824a-4d1b-ef3a-829c6abdd9b2"
      },
      "outputs": [
        {
          "name": "stdout",
          "output_type": "stream",
          "text": [
            "\n",
            "Analisis Nilai Null (sebelum dihapus):\n",
            "- data_cycles: id                           0\n",
            "pond_id                      0\n",
            "species_id                 798\n",
            "total_seed                   0\n",
            "started_at                   0\n",
            "finished_at                  1\n",
            "remark                    1231\n",
            "created_at                   0\n",
            "updated_at                   0\n",
            "area                         0\n",
            "initial_age                 47\n",
            "limit_weight_per_area        7\n",
            "target_cultivation_day       3\n",
            "target_size                  4\n",
            "extracted_at                 0\n",
            "subscription_type            0\n",
            "ordered_at                1474\n",
            "hatchery_id                458\n",
            "total_seed_type            242\n",
            "hatchery_name              458\n",
            "pond_name                    0\n",
            "pond_length                  6\n",
            "pond_width                   6\n",
            "pond_depth                 118\n",
            "dtype: int64\n",
            "- data_farms: id           0\n",
            "province    72\n",
            "regency     93\n",
            "timezone     0\n",
            "dtype: int64\n",
            "- data_fasting: logged_date     0\n",
            "cycle_id        0\n",
            "fasting        17\n",
            "dtype: int64\n",
            "- data_fastings: logged_date     0\n",
            "cycle_id        0\n",
            "fasting        38\n",
            "dtype: int64\n",
            "- data_feed_tray: id                             0\n",
            "logged_at                      0\n",
            "feed_logged_at                 0\n",
            "cycle_id                       0\n",
            "tray_number                    0\n",
            "feed_remaining_percent         0\n",
            "remark                    140283\n",
            "created_at                     0\n",
            "updated_at                     0\n",
            "local_feed_logged_at           0\n",
            "dtype: int64\n",
            "- data_feeds: cycle_id      0\n",
            "logged_at    17\n",
            "quantity     17\n",
            "dtype: int64\n",
            "- data_harvests: cycle_id            0\n",
            "updated_at          0\n",
            "size                0\n",
            "created_at          0\n",
            "weight              0\n",
            "id                  0\n",
            "harvested_at        0\n",
            "status            263\n",
            "selling_price    1793\n",
            "dtype: int64\n",
            "- data_measurements: pond_id                     0\n",
            "cycle_id                    0\n",
            "measured_date               0\n",
            "morning_temperature     41855\n",
            "evening_temperature     49839\n",
            "morning_do              61324\n",
            "evening_do              65098\n",
            "morning_salinity        46388\n",
            "evening_salinity        73957\n",
            "morning_pH              20115\n",
            "evening_pH              78101\n",
            "transparency            61750\n",
            "turbidity              138884\n",
            "ammonia                135302\n",
            "nitrate                136888\n",
            "nitrite                129293\n",
            "alkalinity             125533\n",
            "hardness               133525\n",
            "calcium                132458\n",
            "magnesium              132430\n",
            "carbonate              133762\n",
            "bicarbonate            132372\n",
            "tom                    131774\n",
            "total_plankton_        126429\n",
            "dtype: int64\n",
            "- data_mortalities: id                0\n",
            "cycle_id          0\n",
            "quantity          0\n",
            "recorded_at       0\n",
            "created_at        0\n",
            "updated_at        0\n",
            "average_weight    0\n",
            "dtype: int64\n",
            "- data_ponds: id                    0\n",
            "farm_id               0\n",
            "length               23\n",
            "width                29\n",
            "deep                 92\n",
            "created_at            0\n",
            "updated_at            0\n",
            "record_id             0\n",
            "extracted_at          0\n",
            "max_seed_density    203\n",
            "dtype: int64\n",
            "- data_samplings: cycle_id              0\n",
            "updated_at            0\n",
            "sampled_at            0\n",
            "created_at            0\n",
            "average_weight        0\n",
            "id                    0\n",
            "remark            13693\n",
            "dtype: int64\n",
            "\n",
            "Analisis Nilai Null (setelah dihapus):\n",
            "- data_cycles: id                        0\n",
            "pond_id                   0\n",
            "species_id                0\n",
            "total_seed                0\n",
            "started_at                0\n",
            "finished_at               0\n",
            "remark                    0\n",
            "created_at                0\n",
            "updated_at                0\n",
            "area                      0\n",
            "initial_age               0\n",
            "limit_weight_per_area     0\n",
            "target_cultivation_day    0\n",
            "target_size               0\n",
            "extracted_at              0\n",
            "subscription_type         0\n",
            "ordered_at                0\n",
            "hatchery_id               0\n",
            "total_seed_type           0\n",
            "hatchery_name             0\n",
            "pond_name                 0\n",
            "pond_length               0\n",
            "pond_width                0\n",
            "pond_depth                0\n",
            "dtype: int64\n",
            "- data_farms: id          0\n",
            "province    0\n",
            "regency     0\n",
            "timezone    0\n",
            "dtype: int64\n",
            "- data_fasting: logged_date    0\n",
            "cycle_id       0\n",
            "fasting        0\n",
            "dtype: int64\n",
            "- data_fastings: logged_date    0\n",
            "cycle_id       0\n",
            "fasting        0\n",
            "dtype: int64\n",
            "- data_feed_tray: id                        0\n",
            "logged_at                 0\n",
            "feed_logged_at            0\n",
            "cycle_id                  0\n",
            "tray_number               0\n",
            "feed_remaining_percent    0\n",
            "remark                    0\n",
            "created_at                0\n",
            "updated_at                0\n",
            "local_feed_logged_at      0\n",
            "dtype: int64\n",
            "- data_feeds: cycle_id     0\n",
            "logged_at    0\n",
            "quantity     0\n",
            "dtype: int64\n",
            "- data_harvests: cycle_id         0\n",
            "updated_at       0\n",
            "size             0\n",
            "created_at       0\n",
            "weight           0\n",
            "id               0\n",
            "harvested_at     0\n",
            "status           0\n",
            "selling_price    0\n",
            "dtype: int64\n",
            "- data_measurements: pond_id                0.0\n",
            "cycle_id               0.0\n",
            "measured_date          0.0\n",
            "morning_temperature    0.0\n",
            "evening_temperature    0.0\n",
            "morning_do             0.0\n",
            "evening_do             0.0\n",
            "morning_salinity       0.0\n",
            "evening_salinity       0.0\n",
            "morning_pH             0.0\n",
            "evening_pH             0.0\n",
            "transparency           0.0\n",
            "turbidity              0.0\n",
            "ammonia                0.0\n",
            "nitrate                0.0\n",
            "nitrite                0.0\n",
            "alkalinity             0.0\n",
            "hardness               0.0\n",
            "calcium                0.0\n",
            "magnesium              0.0\n",
            "carbonate              0.0\n",
            "bicarbonate            0.0\n",
            "tom                    0.0\n",
            "total_plankton_        0.0\n",
            "dtype: float64\n",
            "- data_mortalities: id                0\n",
            "cycle_id          0\n",
            "quantity          0\n",
            "recorded_at       0\n",
            "created_at        0\n",
            "updated_at        0\n",
            "average_weight    0\n",
            "dtype: int64\n",
            "- data_ponds: id                  0\n",
            "farm_id             0\n",
            "length              0\n",
            "width               0\n",
            "deep                0\n",
            "created_at          0\n",
            "updated_at          0\n",
            "record_id           0\n",
            "extracted_at        0\n",
            "max_seed_density    0\n",
            "dtype: int64\n",
            "- data_samplings: cycle_id          0\n",
            "updated_at        0\n",
            "sampled_at        0\n",
            "created_at        0\n",
            "average_weight    0\n",
            "id                0\n",
            "remark            0\n",
            "dtype: int64\n"
          ]
        }
      ],
      "source": [
        "import pandas as pd\n",
        "\n",
        "# Analyze null values\n",
        "print(\"\\nAnalisis Nilai Null (sebelum dihapus):\")\n",
        "for df, name in zip(\n",
        "    [\n",
        "        data_cycles,\n",
        "        data_farms,\n",
        "        data_fasting,\n",
        "        data_fastings,\n",
        "        data_feed_tray,\n",
        "        data_feeds,\n",
        "        data_harvests,\n",
        "        data_measurements,\n",
        "        data_mortalities,\n",
        "        data_ponds,\n",
        "        data_samplings,\n",
        "    ],\n",
        "    [\n",
        "        \"data_cycles\",\n",
        "        \"data_farms\",\n",
        "        \"data_fasting\",\n",
        "        \"data_fastings\",\n",
        "        \"data_feed_tray\",\n",
        "        \"data_feeds\",\n",
        "        \"data_harvests\",\n",
        "        \"data_measurements\",\n",
        "        \"data_mortalities\",\n",
        "        \"data_ponds\",\n",
        "        \"data_samplings\",\n",
        "    ],\n",
        "):\n",
        "    print(f\"- {name}: {df.isnull().sum()}\")  # Print number of null values before dropping\n",
        "\n",
        "# Drop rows with null values (consider subset of columns if needed)\n",
        "for df, name in zip(\n",
        "    [\n",
        "        data_cycles,\n",
        "        data_farms,\n",
        "        data_fasting,\n",
        "        data_fastings,\n",
        "        data_feed_tray,\n",
        "        data_feeds,\n",
        "        data_harvests,\n",
        "        data_measurements,\n",
        "        data_mortalities,\n",
        "        data_ponds,\n",
        "        data_samplings,\n",
        "    ],\n",
        "    [\n",
        "        \"data_cycles\",\n",
        "        \"data_farms\",\n",
        "        \"data_fasting\",\n",
        "        \"data_fastings\",\n",
        "        \"data_feed_tray\",\n",
        "        \"data_feeds\",\n",
        "        \"data_harvests\",\n",
        "        \"data_measurements\",\n",
        "        \"data_mortalities\",\n",
        "        \"data_ponds\",\n",
        "        \"data_samplings\",\n",
        "    ],\n",
        "):\n",
        "    df.dropna(inplace=True)  # Drop rows with any null value\n",
        "\n",
        "# Print number of null values after dropping (optional)\n",
        "print(\"\\nAnalisis Nilai Null (setelah dihapus):\")\n",
        "for df, name in zip(\n",
        "    [\n",
        "        data_cycles,\n",
        "        data_farms,\n",
        "        data_fasting,\n",
        "        data_fastings,\n",
        "        data_feed_tray,\n",
        "        data_feeds,\n",
        "        data_harvests,\n",
        "        data_measurements,\n",
        "        data_mortalities,\n",
        "        data_ponds,\n",
        "        data_samplings,\n",
        "    ],\n",
        "    [\n",
        "        \"data_cycles\",\n",
        "        \"data_farms\",\n",
        "        \"data_fasting\",\n",
        "        \"data_fastings\",\n",
        "        \"data_feed_tray\",\n",
        "        \"data_feeds\",\n",
        "        \"data_harvests\",\n",
        "        \"data_measurements\",\n",
        "        \"data_mortalities\",\n",
        "        \"data_ponds\",\n",
        "        \"data_samplings\",\n",
        "    ],\n",
        "):\n",
        "    print(f\"- {name}: {df.isnull().sum()}\")  # Print number of null values remaining\n"
      ]
    },
    {
      "cell_type": "markdown",
      "metadata": {
        "id": "gANvBgU_ymZE"
      },
      "source": [
        "Mengubah data_fastings menjadi data_fastings_second sebagai pembeda"
      ]
    },
    {
      "cell_type": "code",
      "execution_count": 8,
      "metadata": {
        "id": "2f6uWiX4yL7z"
      },
      "outputs": [],
      "source": [
        "data_fastings_second=data_fastings"
      ]
    },
    {
      "cell_type": "code",
      "execution_count": 9,
      "metadata": {
        "colab": {
          "base_uri": "https://localhost:8080/",
          "height": 206
        },
        "id": "lopTrZtwyT18",
        "outputId": "16fb2f73-d174-43f1-8064-33bd950ec666"
      },
      "outputs": [
        {
          "data": {
            "application/vnd.google.colaboratory.intrinsic+json": {
              "summary": "{\n  \"name\": \"data_fasting\",\n  \"rows\": 6105,\n  \"fields\": [\n    {\n      \"column\": \"logged_date\",\n      \"properties\": {\n        \"dtype\": \"object\",\n        \"num_unique_values\": 479,\n        \"samples\": [\n          \"2023-04-21\",\n          \"2023-01-13\",\n          \"2023-03-14\"\n        ],\n        \"semantic_type\": \"\",\n        \"description\": \"\"\n      }\n    },\n    {\n      \"column\": \"cycle_id\",\n      \"properties\": {\n        \"dtype\": \"number\",\n        \"std\": 2826,\n        \"min\": 7616,\n        \"max\": 23531,\n        \"num_unique_values\": 334,\n        \"samples\": [\n          18635,\n          17403,\n          15434\n        ],\n        \"semantic_type\": \"\",\n        \"description\": \"\"\n      }\n    },\n    {\n      \"column\": \"fasting\",\n      \"properties\": {\n        \"dtype\": \"number\",\n        \"std\": 0.425288766064023,\n        \"min\": 0.0,\n        \"max\": 1.0,\n        \"num_unique_values\": 2,\n        \"samples\": [\n          0.0,\n          1.0\n        ],\n        \"semantic_type\": \"\",\n        \"description\": \"\"\n      }\n    }\n  ]\n}",
              "type": "dataframe",
              "variable_name": "data_fasting"
            },
            "text/html": [
              "\n",
              "  <div id=\"df-939794a7-dd3c-49d8-b50a-41a6016e0c6c\" class=\"colab-df-container\">\n",
              "    <div>\n",
              "<style scoped>\n",
              "    .dataframe tbody tr th:only-of-type {\n",
              "        vertical-align: middle;\n",
              "    }\n",
              "\n",
              "    .dataframe tbody tr th {\n",
              "        vertical-align: top;\n",
              "    }\n",
              "\n",
              "    .dataframe thead th {\n",
              "        text-align: right;\n",
              "    }\n",
              "</style>\n",
              "<table border=\"1\" class=\"dataframe\">\n",
              "  <thead>\n",
              "    <tr style=\"text-align: right;\">\n",
              "      <th></th>\n",
              "      <th>logged_date</th>\n",
              "      <th>cycle_id</th>\n",
              "      <th>fasting</th>\n",
              "    </tr>\n",
              "  </thead>\n",
              "  <tbody>\n",
              "    <tr>\n",
              "      <th>0</th>\n",
              "      <td>2022-10-17</td>\n",
              "      <td>15804</td>\n",
              "      <td>1.0</td>\n",
              "    </tr>\n",
              "    <tr>\n",
              "      <th>1</th>\n",
              "      <td>2022-11-27</td>\n",
              "      <td>15804</td>\n",
              "      <td>0.0</td>\n",
              "    </tr>\n",
              "    <tr>\n",
              "      <th>2</th>\n",
              "      <td>2022-11-28</td>\n",
              "      <td>15804</td>\n",
              "      <td>0.0</td>\n",
              "    </tr>\n",
              "    <tr>\n",
              "      <th>3</th>\n",
              "      <td>2022-11-29</td>\n",
              "      <td>15804</td>\n",
              "      <td>0.0</td>\n",
              "    </tr>\n",
              "    <tr>\n",
              "      <th>4</th>\n",
              "      <td>2022-12-01</td>\n",
              "      <td>15804</td>\n",
              "      <td>1.0</td>\n",
              "    </tr>\n",
              "  </tbody>\n",
              "</table>\n",
              "</div>\n",
              "    <div class=\"colab-df-buttons\">\n",
              "\n",
              "  <div class=\"colab-df-container\">\n",
              "    <button class=\"colab-df-convert\" onclick=\"convertToInteractive('df-939794a7-dd3c-49d8-b50a-41a6016e0c6c')\"\n",
              "            title=\"Convert this dataframe to an interactive table.\"\n",
              "            style=\"display:none;\">\n",
              "\n",
              "  <svg xmlns=\"http://www.w3.org/2000/svg\" height=\"24px\" viewBox=\"0 -960 960 960\">\n",
              "    <path d=\"M120-120v-720h720v720H120Zm60-500h600v-160H180v160Zm220 220h160v-160H400v160Zm0 220h160v-160H400v160ZM180-400h160v-160H180v160Zm440 0h160v-160H620v160ZM180-180h160v-160H180v160Zm440 0h160v-160H620v160Z\"/>\n",
              "  </svg>\n",
              "    </button>\n",
              "\n",
              "  <style>\n",
              "    .colab-df-container {\n",
              "      display:flex;\n",
              "      gap: 12px;\n",
              "    }\n",
              "\n",
              "    .colab-df-convert {\n",
              "      background-color: #E8F0FE;\n",
              "      border: none;\n",
              "      border-radius: 50%;\n",
              "      cursor: pointer;\n",
              "      display: none;\n",
              "      fill: #1967D2;\n",
              "      height: 32px;\n",
              "      padding: 0 0 0 0;\n",
              "      width: 32px;\n",
              "    }\n",
              "\n",
              "    .colab-df-convert:hover {\n",
              "      background-color: #E2EBFA;\n",
              "      box-shadow: 0px 1px 2px rgba(60, 64, 67, 0.3), 0px 1px 3px 1px rgba(60, 64, 67, 0.15);\n",
              "      fill: #174EA6;\n",
              "    }\n",
              "\n",
              "    .colab-df-buttons div {\n",
              "      margin-bottom: 4px;\n",
              "    }\n",
              "\n",
              "    [theme=dark] .colab-df-convert {\n",
              "      background-color: #3B4455;\n",
              "      fill: #D2E3FC;\n",
              "    }\n",
              "\n",
              "    [theme=dark] .colab-df-convert:hover {\n",
              "      background-color: #434B5C;\n",
              "      box-shadow: 0px 1px 3px 1px rgba(0, 0, 0, 0.15);\n",
              "      filter: drop-shadow(0px 1px 2px rgba(0, 0, 0, 0.3));\n",
              "      fill: #FFFFFF;\n",
              "    }\n",
              "  </style>\n",
              "\n",
              "    <script>\n",
              "      const buttonEl =\n",
              "        document.querySelector('#df-939794a7-dd3c-49d8-b50a-41a6016e0c6c button.colab-df-convert');\n",
              "      buttonEl.style.display =\n",
              "        google.colab.kernel.accessAllowed ? 'block' : 'none';\n",
              "\n",
              "      async function convertToInteractive(key) {\n",
              "        const element = document.querySelector('#df-939794a7-dd3c-49d8-b50a-41a6016e0c6c');\n",
              "        const dataTable =\n",
              "          await google.colab.kernel.invokeFunction('convertToInteractive',\n",
              "                                                    [key], {});\n",
              "        if (!dataTable) return;\n",
              "\n",
              "        const docLinkHtml = 'Like what you see? Visit the ' +\n",
              "          '<a target=\"_blank\" href=https://colab.research.google.com/notebooks/data_table.ipynb>data table notebook</a>'\n",
              "          + ' to learn more about interactive tables.';\n",
              "        element.innerHTML = '';\n",
              "        dataTable['output_type'] = 'display_data';\n",
              "        await google.colab.output.renderOutput(dataTable, element);\n",
              "        const docLink = document.createElement('div');\n",
              "        docLink.innerHTML = docLinkHtml;\n",
              "        element.appendChild(docLink);\n",
              "      }\n",
              "    </script>\n",
              "  </div>\n",
              "\n",
              "\n",
              "<div id=\"df-0bf84f17-cffb-423e-9589-44eaeb1bc984\">\n",
              "  <button class=\"colab-df-quickchart\" onclick=\"quickchart('df-0bf84f17-cffb-423e-9589-44eaeb1bc984')\"\n",
              "            title=\"Suggest charts\"\n",
              "            style=\"display:none;\">\n",
              "\n",
              "<svg xmlns=\"http://www.w3.org/2000/svg\" height=\"24px\"viewBox=\"0 0 24 24\"\n",
              "     width=\"24px\">\n",
              "    <g>\n",
              "        <path d=\"M19 3H5c-1.1 0-2 .9-2 2v14c0 1.1.9 2 2 2h14c1.1 0 2-.9 2-2V5c0-1.1-.9-2-2-2zM9 17H7v-7h2v7zm4 0h-2V7h2v10zm4 0h-2v-4h2v4z\"/>\n",
              "    </g>\n",
              "</svg>\n",
              "  </button>\n",
              "\n",
              "<style>\n",
              "  .colab-df-quickchart {\n",
              "      --bg-color: #E8F0FE;\n",
              "      --fill-color: #1967D2;\n",
              "      --hover-bg-color: #E2EBFA;\n",
              "      --hover-fill-color: #174EA6;\n",
              "      --disabled-fill-color: #AAA;\n",
              "      --disabled-bg-color: #DDD;\n",
              "  }\n",
              "\n",
              "  [theme=dark] .colab-df-quickchart {\n",
              "      --bg-color: #3B4455;\n",
              "      --fill-color: #D2E3FC;\n",
              "      --hover-bg-color: #434B5C;\n",
              "      --hover-fill-color: #FFFFFF;\n",
              "      --disabled-bg-color: #3B4455;\n",
              "      --disabled-fill-color: #666;\n",
              "  }\n",
              "\n",
              "  .colab-df-quickchart {\n",
              "    background-color: var(--bg-color);\n",
              "    border: none;\n",
              "    border-radius: 50%;\n",
              "    cursor: pointer;\n",
              "    display: none;\n",
              "    fill: var(--fill-color);\n",
              "    height: 32px;\n",
              "    padding: 0;\n",
              "    width: 32px;\n",
              "  }\n",
              "\n",
              "  .colab-df-quickchart:hover {\n",
              "    background-color: var(--hover-bg-color);\n",
              "    box-shadow: 0 1px 2px rgba(60, 64, 67, 0.3), 0 1px 3px 1px rgba(60, 64, 67, 0.15);\n",
              "    fill: var(--button-hover-fill-color);\n",
              "  }\n",
              "\n",
              "  .colab-df-quickchart-complete:disabled,\n",
              "  .colab-df-quickchart-complete:disabled:hover {\n",
              "    background-color: var(--disabled-bg-color);\n",
              "    fill: var(--disabled-fill-color);\n",
              "    box-shadow: none;\n",
              "  }\n",
              "\n",
              "  .colab-df-spinner {\n",
              "    border: 2px solid var(--fill-color);\n",
              "    border-color: transparent;\n",
              "    border-bottom-color: var(--fill-color);\n",
              "    animation:\n",
              "      spin 1s steps(1) infinite;\n",
              "  }\n",
              "\n",
              "  @keyframes spin {\n",
              "    0% {\n",
              "      border-color: transparent;\n",
              "      border-bottom-color: var(--fill-color);\n",
              "      border-left-color: var(--fill-color);\n",
              "    }\n",
              "    20% {\n",
              "      border-color: transparent;\n",
              "      border-left-color: var(--fill-color);\n",
              "      border-top-color: var(--fill-color);\n",
              "    }\n",
              "    30% {\n",
              "      border-color: transparent;\n",
              "      border-left-color: var(--fill-color);\n",
              "      border-top-color: var(--fill-color);\n",
              "      border-right-color: var(--fill-color);\n",
              "    }\n",
              "    40% {\n",
              "      border-color: transparent;\n",
              "      border-right-color: var(--fill-color);\n",
              "      border-top-color: var(--fill-color);\n",
              "    }\n",
              "    60% {\n",
              "      border-color: transparent;\n",
              "      border-right-color: var(--fill-color);\n",
              "    }\n",
              "    80% {\n",
              "      border-color: transparent;\n",
              "      border-right-color: var(--fill-color);\n",
              "      border-bottom-color: var(--fill-color);\n",
              "    }\n",
              "    90% {\n",
              "      border-color: transparent;\n",
              "      border-bottom-color: var(--fill-color);\n",
              "    }\n",
              "  }\n",
              "</style>\n",
              "\n",
              "  <script>\n",
              "    async function quickchart(key) {\n",
              "      const quickchartButtonEl =\n",
              "        document.querySelector('#' + key + ' button');\n",
              "      quickchartButtonEl.disabled = true;  // To prevent multiple clicks.\n",
              "      quickchartButtonEl.classList.add('colab-df-spinner');\n",
              "      try {\n",
              "        const charts = await google.colab.kernel.invokeFunction(\n",
              "            'suggestCharts', [key], {});\n",
              "      } catch (error) {\n",
              "        console.error('Error during call to suggestCharts:', error);\n",
              "      }\n",
              "      quickchartButtonEl.classList.remove('colab-df-spinner');\n",
              "      quickchartButtonEl.classList.add('colab-df-quickchart-complete');\n",
              "    }\n",
              "    (() => {\n",
              "      let quickchartButtonEl =\n",
              "        document.querySelector('#df-0bf84f17-cffb-423e-9589-44eaeb1bc984 button');\n",
              "      quickchartButtonEl.style.display =\n",
              "        google.colab.kernel.accessAllowed ? 'block' : 'none';\n",
              "    })();\n",
              "  </script>\n",
              "</div>\n",
              "    </div>\n",
              "  </div>\n"
            ],
            "text/plain": [
              "  logged_date  cycle_id  fasting\n",
              "0  2022-10-17     15804      1.0\n",
              "1  2022-11-27     15804      0.0\n",
              "2  2022-11-28     15804      0.0\n",
              "3  2022-11-29     15804      0.0\n",
              "4  2022-12-01     15804      1.0"
            ]
          },
          "execution_count": 9,
          "metadata": {},
          "output_type": "execute_result"
        }
      ],
      "source": [
        "data_fasting.head()"
      ]
    },
    {
      "cell_type": "markdown",
      "metadata": {
        "id": "fWqt8zVxyFi7"
      },
      "source": [
        "Mengubah nama data_fastings menjadi data_fasting2"
      ]
    },
    {
      "cell_type": "markdown",
      "metadata": {
        "id": "FWzSjcnkn3jW"
      },
      "source": [
        "#Jawaban No.2"
      ]
    },
    {
      "cell_type": "markdown",
      "metadata": {
        "id": "g3jwkc8Hn79e"
      },
      "source": [
        "##Menghitung SR"
      ]
    },
    {
      "cell_type": "code",
      "execution_count": 10,
      "metadata": {
        "colab": {
          "base_uri": "https://localhost:8080/",
          "height": 313
        },
        "id": "ohLmQJ1QoG2w",
        "outputId": "8af57ff4-cc0b-4e79-8c87-a284eadbcd6c"
      },
      "outputs": [
        {
          "data": {
            "application/vnd.google.colaboratory.intrinsic+json": {
              "repr_error": "0",
              "type": "dataframe",
              "variable_name": "data_harvests"
            },
            "text/html": [
              "\n",
              "  <div id=\"df-b35146c8-8a85-4a8e-8136-31bfb075be9f\" class=\"colab-df-container\">\n",
              "    <div>\n",
              "<style scoped>\n",
              "    .dataframe tbody tr th:only-of-type {\n",
              "        vertical-align: middle;\n",
              "    }\n",
              "\n",
              "    .dataframe tbody tr th {\n",
              "        vertical-align: top;\n",
              "    }\n",
              "\n",
              "    .dataframe thead th {\n",
              "        text-align: right;\n",
              "    }\n",
              "</style>\n",
              "<table border=\"1\" class=\"dataframe\">\n",
              "  <thead>\n",
              "    <tr style=\"text-align: right;\">\n",
              "      <th></th>\n",
              "      <th>cycle_id</th>\n",
              "      <th>updated_at</th>\n",
              "      <th>size</th>\n",
              "      <th>created_at</th>\n",
              "      <th>weight</th>\n",
              "      <th>id</th>\n",
              "      <th>harvested_at</th>\n",
              "      <th>status</th>\n",
              "      <th>selling_price</th>\n",
              "    </tr>\n",
              "  </thead>\n",
              "  <tbody>\n",
              "    <tr>\n",
              "      <th>1</th>\n",
              "      <td>11848.0</td>\n",
              "      <td>2021-10-25 23:29:53</td>\n",
              "      <td>300.0</td>\n",
              "      <td>2021-10-24 08:38:53</td>\n",
              "      <td>46.00</td>\n",
              "      <td>7520.0</td>\n",
              "      <td>2021-10-22</td>\n",
              "      <td>Full</td>\n",
              "      <td>1.610000e+06</td>\n",
              "    </tr>\n",
              "    <tr>\n",
              "      <th>2</th>\n",
              "      <td>11848.0</td>\n",
              "      <td>2021-10-25 23:29:35</td>\n",
              "      <td>300.0</td>\n",
              "      <td>2021-10-25 23:29:35</td>\n",
              "      <td>10.00</td>\n",
              "      <td>7546.0</td>\n",
              "      <td>2021-10-21</td>\n",
              "      <td>Partial</td>\n",
              "      <td>3.500000e+05</td>\n",
              "    </tr>\n",
              "    <tr>\n",
              "      <th>5</th>\n",
              "      <td>18747.0</td>\n",
              "      <td>2022-10-20 01:06:50</td>\n",
              "      <td>72.3</td>\n",
              "      <td>2022-10-20 01:06:50</td>\n",
              "      <td>5322.28</td>\n",
              "      <td>13876.0</td>\n",
              "      <td>2022-10-19</td>\n",
              "      <td>Full</td>\n",
              "      <td>5.322280e+03</td>\n",
              "    </tr>\n",
              "    <tr>\n",
              "      <th>6</th>\n",
              "      <td>27095.0</td>\n",
              "      <td>2024-02-19 02:10:48</td>\n",
              "      <td>41.5</td>\n",
              "      <td>2023-12-27 12:00:59</td>\n",
              "      <td>7843.00</td>\n",
              "      <td>25322.0</td>\n",
              "      <td>2023-12-12</td>\n",
              "      <td>Full</td>\n",
              "      <td>4.925404e+08</td>\n",
              "    </tr>\n",
              "    <tr>\n",
              "      <th>7</th>\n",
              "      <td>27095.0</td>\n",
              "      <td>2024-02-19 02:08:11</td>\n",
              "      <td>67.5</td>\n",
              "      <td>2024-02-12 05:06:57</td>\n",
              "      <td>1244.50</td>\n",
              "      <td>26728.0</td>\n",
              "      <td>2023-11-08</td>\n",
              "      <td>Partial</td>\n",
              "      <td>7.653675e+07</td>\n",
              "    </tr>\n",
              "  </tbody>\n",
              "</table>\n",
              "</div>\n",
              "    <div class=\"colab-df-buttons\">\n",
              "\n",
              "  <div class=\"colab-df-container\">\n",
              "    <button class=\"colab-df-convert\" onclick=\"convertToInteractive('df-b35146c8-8a85-4a8e-8136-31bfb075be9f')\"\n",
              "            title=\"Convert this dataframe to an interactive table.\"\n",
              "            style=\"display:none;\">\n",
              "\n",
              "  <svg xmlns=\"http://www.w3.org/2000/svg\" height=\"24px\" viewBox=\"0 -960 960 960\">\n",
              "    <path d=\"M120-120v-720h720v720H120Zm60-500h600v-160H180v160Zm220 220h160v-160H400v160Zm0 220h160v-160H400v160ZM180-400h160v-160H180v160Zm440 0h160v-160H620v160ZM180-180h160v-160H180v160Zm440 0h160v-160H620v160Z\"/>\n",
              "  </svg>\n",
              "    </button>\n",
              "\n",
              "  <style>\n",
              "    .colab-df-container {\n",
              "      display:flex;\n",
              "      gap: 12px;\n",
              "    }\n",
              "\n",
              "    .colab-df-convert {\n",
              "      background-color: #E8F0FE;\n",
              "      border: none;\n",
              "      border-radius: 50%;\n",
              "      cursor: pointer;\n",
              "      display: none;\n",
              "      fill: #1967D2;\n",
              "      height: 32px;\n",
              "      padding: 0 0 0 0;\n",
              "      width: 32px;\n",
              "    }\n",
              "\n",
              "    .colab-df-convert:hover {\n",
              "      background-color: #E2EBFA;\n",
              "      box-shadow: 0px 1px 2px rgba(60, 64, 67, 0.3), 0px 1px 3px 1px rgba(60, 64, 67, 0.15);\n",
              "      fill: #174EA6;\n",
              "    }\n",
              "\n",
              "    .colab-df-buttons div {\n",
              "      margin-bottom: 4px;\n",
              "    }\n",
              "\n",
              "    [theme=dark] .colab-df-convert {\n",
              "      background-color: #3B4455;\n",
              "      fill: #D2E3FC;\n",
              "    }\n",
              "\n",
              "    [theme=dark] .colab-df-convert:hover {\n",
              "      background-color: #434B5C;\n",
              "      box-shadow: 0px 1px 3px 1px rgba(0, 0, 0, 0.15);\n",
              "      filter: drop-shadow(0px 1px 2px rgba(0, 0, 0, 0.3));\n",
              "      fill: #FFFFFF;\n",
              "    }\n",
              "  </style>\n",
              "\n",
              "    <script>\n",
              "      const buttonEl =\n",
              "        document.querySelector('#df-b35146c8-8a85-4a8e-8136-31bfb075be9f button.colab-df-convert');\n",
              "      buttonEl.style.display =\n",
              "        google.colab.kernel.accessAllowed ? 'block' : 'none';\n",
              "\n",
              "      async function convertToInteractive(key) {\n",
              "        const element = document.querySelector('#df-b35146c8-8a85-4a8e-8136-31bfb075be9f');\n",
              "        const dataTable =\n",
              "          await google.colab.kernel.invokeFunction('convertToInteractive',\n",
              "                                                    [key], {});\n",
              "        if (!dataTable) return;\n",
              "\n",
              "        const docLinkHtml = 'Like what you see? Visit the ' +\n",
              "          '<a target=\"_blank\" href=https://colab.research.google.com/notebooks/data_table.ipynb>data table notebook</a>'\n",
              "          + ' to learn more about interactive tables.';\n",
              "        element.innerHTML = '';\n",
              "        dataTable['output_type'] = 'display_data';\n",
              "        await google.colab.output.renderOutput(dataTable, element);\n",
              "        const docLink = document.createElement('div');\n",
              "        docLink.innerHTML = docLinkHtml;\n",
              "        element.appendChild(docLink);\n",
              "      }\n",
              "    </script>\n",
              "  </div>\n",
              "\n",
              "\n",
              "<div id=\"df-799dac00-3285-4b69-ba25-4dd7075eff98\">\n",
              "  <button class=\"colab-df-quickchart\" onclick=\"quickchart('df-799dac00-3285-4b69-ba25-4dd7075eff98')\"\n",
              "            title=\"Suggest charts\"\n",
              "            style=\"display:none;\">\n",
              "\n",
              "<svg xmlns=\"http://www.w3.org/2000/svg\" height=\"24px\"viewBox=\"0 0 24 24\"\n",
              "     width=\"24px\">\n",
              "    <g>\n",
              "        <path d=\"M19 3H5c-1.1 0-2 .9-2 2v14c0 1.1.9 2 2 2h14c1.1 0 2-.9 2-2V5c0-1.1-.9-2-2-2zM9 17H7v-7h2v7zm4 0h-2V7h2v10zm4 0h-2v-4h2v4z\"/>\n",
              "    </g>\n",
              "</svg>\n",
              "  </button>\n",
              "\n",
              "<style>\n",
              "  .colab-df-quickchart {\n",
              "      --bg-color: #E8F0FE;\n",
              "      --fill-color: #1967D2;\n",
              "      --hover-bg-color: #E2EBFA;\n",
              "      --hover-fill-color: #174EA6;\n",
              "      --disabled-fill-color: #AAA;\n",
              "      --disabled-bg-color: #DDD;\n",
              "  }\n",
              "\n",
              "  [theme=dark] .colab-df-quickchart {\n",
              "      --bg-color: #3B4455;\n",
              "      --fill-color: #D2E3FC;\n",
              "      --hover-bg-color: #434B5C;\n",
              "      --hover-fill-color: #FFFFFF;\n",
              "      --disabled-bg-color: #3B4455;\n",
              "      --disabled-fill-color: #666;\n",
              "  }\n",
              "\n",
              "  .colab-df-quickchart {\n",
              "    background-color: var(--bg-color);\n",
              "    border: none;\n",
              "    border-radius: 50%;\n",
              "    cursor: pointer;\n",
              "    display: none;\n",
              "    fill: var(--fill-color);\n",
              "    height: 32px;\n",
              "    padding: 0;\n",
              "    width: 32px;\n",
              "  }\n",
              "\n",
              "  .colab-df-quickchart:hover {\n",
              "    background-color: var(--hover-bg-color);\n",
              "    box-shadow: 0 1px 2px rgba(60, 64, 67, 0.3), 0 1px 3px 1px rgba(60, 64, 67, 0.15);\n",
              "    fill: var(--button-hover-fill-color);\n",
              "  }\n",
              "\n",
              "  .colab-df-quickchart-complete:disabled,\n",
              "  .colab-df-quickchart-complete:disabled:hover {\n",
              "    background-color: var(--disabled-bg-color);\n",
              "    fill: var(--disabled-fill-color);\n",
              "    box-shadow: none;\n",
              "  }\n",
              "\n",
              "  .colab-df-spinner {\n",
              "    border: 2px solid var(--fill-color);\n",
              "    border-color: transparent;\n",
              "    border-bottom-color: var(--fill-color);\n",
              "    animation:\n",
              "      spin 1s steps(1) infinite;\n",
              "  }\n",
              "\n",
              "  @keyframes spin {\n",
              "    0% {\n",
              "      border-color: transparent;\n",
              "      border-bottom-color: var(--fill-color);\n",
              "      border-left-color: var(--fill-color);\n",
              "    }\n",
              "    20% {\n",
              "      border-color: transparent;\n",
              "      border-left-color: var(--fill-color);\n",
              "      border-top-color: var(--fill-color);\n",
              "    }\n",
              "    30% {\n",
              "      border-color: transparent;\n",
              "      border-left-color: var(--fill-color);\n",
              "      border-top-color: var(--fill-color);\n",
              "      border-right-color: var(--fill-color);\n",
              "    }\n",
              "    40% {\n",
              "      border-color: transparent;\n",
              "      border-right-color: var(--fill-color);\n",
              "      border-top-color: var(--fill-color);\n",
              "    }\n",
              "    60% {\n",
              "      border-color: transparent;\n",
              "      border-right-color: var(--fill-color);\n",
              "    }\n",
              "    80% {\n",
              "      border-color: transparent;\n",
              "      border-right-color: var(--fill-color);\n",
              "      border-bottom-color: var(--fill-color);\n",
              "    }\n",
              "    90% {\n",
              "      border-color: transparent;\n",
              "      border-bottom-color: var(--fill-color);\n",
              "    }\n",
              "  }\n",
              "</style>\n",
              "\n",
              "  <script>\n",
              "    async function quickchart(key) {\n",
              "      const quickchartButtonEl =\n",
              "        document.querySelector('#' + key + ' button');\n",
              "      quickchartButtonEl.disabled = true;  // To prevent multiple clicks.\n",
              "      quickchartButtonEl.classList.add('colab-df-spinner');\n",
              "      try {\n",
              "        const charts = await google.colab.kernel.invokeFunction(\n",
              "            'suggestCharts', [key], {});\n",
              "      } catch (error) {\n",
              "        console.error('Error during call to suggestCharts:', error);\n",
              "      }\n",
              "      quickchartButtonEl.classList.remove('colab-df-spinner');\n",
              "      quickchartButtonEl.classList.add('colab-df-quickchart-complete');\n",
              "    }\n",
              "    (() => {\n",
              "      let quickchartButtonEl =\n",
              "        document.querySelector('#df-799dac00-3285-4b69-ba25-4dd7075eff98 button');\n",
              "      quickchartButtonEl.style.display =\n",
              "        google.colab.kernel.accessAllowed ? 'block' : 'none';\n",
              "    })();\n",
              "  </script>\n",
              "</div>\n",
              "    </div>\n",
              "  </div>\n"
            ],
            "text/plain": [
              "   cycle_id           updated_at   size           created_at   weight  \\\n",
              "1   11848.0  2021-10-25 23:29:53  300.0  2021-10-24 08:38:53    46.00   \n",
              "2   11848.0  2021-10-25 23:29:35  300.0  2021-10-25 23:29:35    10.00   \n",
              "5   18747.0  2022-10-20 01:06:50   72.3  2022-10-20 01:06:50  5322.28   \n",
              "6   27095.0  2024-02-19 02:10:48   41.5  2023-12-27 12:00:59  7843.00   \n",
              "7   27095.0  2024-02-19 02:08:11   67.5  2024-02-12 05:06:57  1244.50   \n",
              "\n",
              "        id harvested_at   status  selling_price  \n",
              "1   7520.0   2021-10-22     Full   1.610000e+06  \n",
              "2   7546.0   2021-10-21  Partial   3.500000e+05  \n",
              "5  13876.0   2022-10-19     Full   5.322280e+03  \n",
              "6  25322.0   2023-12-12     Full   4.925404e+08  \n",
              "7  26728.0   2023-11-08  Partial   7.653675e+07  "
            ]
          },
          "execution_count": 10,
          "metadata": {},
          "output_type": "execute_result"
        }
      ],
      "source": [
        "data_harvests.head()"
      ]
    },
    {
      "cell_type": "markdown",
      "metadata": {
        "id": "NCfBK8Ldrmut"
      },
      "source": [
        "Menghitung Data Jumlah Ekor Udang per siklus panen"
      ]
    },
    {
      "cell_type": "code",
      "execution_count": 11,
      "metadata": {
        "id": "uUQyWpdWooxX"
      },
      "outputs": [],
      "source": [
        "data_harvests['ekor'] = (data_harvests['weight']/ data_harvests['size']).astype(int)"
      ]
    },
    {
      "cell_type": "code",
      "execution_count": 12,
      "metadata": {
        "colab": {
          "base_uri": "https://localhost:8080/"
        },
        "id": "pYrHDMJRpWre",
        "outputId": "3554882c-b44e-47b8-8391-6c89c9f4cd44"
      },
      "outputs": [
        {
          "data": {
            "text/plain": [
              "1         0\n",
              "2         0\n",
              "5        73\n",
              "6       188\n",
              "7        18\n",
              "       ... \n",
              "8082      0\n",
              "8083      0\n",
              "8084      2\n",
              "8085      0\n",
              "8086      1\n",
              "Name: ekor, Length: 6039, dtype: int64"
            ]
          },
          "execution_count": 12,
          "metadata": {},
          "output_type": "execute_result"
        }
      ],
      "source": [
        "data_harvests['ekor']"
      ]
    },
    {
      "cell_type": "markdown",
      "metadata": {
        "id": "ZdyBDGwIr5Qd"
      },
      "source": [
        "Mengambil data total_seed per siklus dari data_cycles dan data jumlah ekor per siklus(id) dari data_harvests"
      ]
    },
    {
      "cell_type": "code",
      "execution_count": 13,
      "metadata": {
        "id": "NaUXcxeFwf_A"
      },
      "outputs": [],
      "source": [
        "\n",
        "data_cycles['cycle_id'] = data_cycles['id']"
      ]
    },
    {
      "cell_type": "code",
      "execution_count": 14,
      "metadata": {
        "id": "T4jiQD14n7M_"
      },
      "outputs": [],
      "source": [
        "merge_df = pd.merge(data_cycles, data_harvests, on='cycle_id', how='inner')"
      ]
    },
    {
      "cell_type": "markdown",
      "metadata": {
        "id": "8N3cC8rz3FXq"
      },
      "source": [
        "Perhitungan survival rate = data ekor / data total_seed"
      ]
    },
    {
      "cell_type": "code",
      "execution_count": 15,
      "metadata": {
        "id": "NDs6wk7Uw13-"
      },
      "outputs": [],
      "source": [
        "merge_df['sr']= merge_df['ekor']/ merge_df['total_seed']*100"
      ]
    },
    {
      "cell_type": "markdown",
      "metadata": {
        "id": "VDEcAj9J3XMz"
      },
      "source": [
        "Pembuatan Data survival Rate"
      ]
    },
    {
      "cell_type": "code",
      "execution_count": 16,
      "metadata": {
        "id": "5s8hPwbixSB0"
      },
      "outputs": [],
      "source": [
        "data_sr = pd.DataFrame({\n",
        "    'cycle_id': merge_df['cycle_id'],\n",
        "    'ekor': merge_df['ekor'],\n",
        "    'total_seed': merge_df['total_seed'],\n",
        "    'total_seed_type': merge_df['total_seed_type'],\n",
        "    'sr%':merge_df['sr']\n",
        "})\n"
      ]
    },
    {
      "cell_type": "markdown",
      "metadata": {
        "id": "YdoOKL75rdM9"
      },
      "source": [
        "Data SR (per ekor)"
      ]
    },
    {
      "cell_type": "code",
      "execution_count": 17,
      "metadata": {
        "colab": {
          "base_uri": "https://localhost:8080/",
          "height": 424
        },
        "id": "iDO9E5WjyLIV",
        "outputId": "c010b22f-1cd4-4066-ae16-96e4a863abf9"
      },
      "outputs": [
        {
          "data": {
            "application/vnd.google.colaboratory.intrinsic+json": {
              "summary": "{\n  \"name\": \"data_sr\",\n  \"rows\": 1121,\n  \"fields\": [\n    {\n      \"column\": \"cycle_id\",\n      \"properties\": {\n        \"dtype\": \"number\",\n        \"std\": 4099,\n        \"min\": 13117,\n        \"max\": 29874,\n        \"num_unique_values\": 382,\n        \"samples\": [\n          17468,\n          19670,\n          18828\n        ],\n        \"semantic_type\": \"\",\n        \"description\": \"\"\n      }\n    },\n    {\n      \"column\": \"ekor\",\n      \"properties\": {\n        \"dtype\": \"number\",\n        \"std\": 17,\n        \"min\": 0,\n        \"max\": 450,\n        \"num_unique_values\": 58,\n        \"samples\": [\n          1,\n          15,\n          29\n        ],\n        \"semantic_type\": \"\",\n        \"description\": \"\"\n      }\n    },\n    {\n      \"column\": \"total_seed\",\n      \"properties\": {\n        \"dtype\": \"number\",\n        \"std\": 103421,\n        \"min\": 10000,\n        \"max\": 551005,\n        \"num_unique_values\": 152,\n        \"samples\": [\n          10000,\n          15000,\n          115662\n        ],\n        \"semantic_type\": \"\",\n        \"description\": \"\"\n      }\n    },\n    {\n      \"column\": \"total_seed_type\",\n      \"properties\": {\n        \"dtype\": \"category\",\n        \"num_unique_values\": 3,\n        \"samples\": [\n          \"net\",\n          \"actual\",\n          \"gross\"\n        ],\n        \"semantic_type\": \"\",\n        \"description\": \"\"\n      }\n    },\n    {\n      \"column\": \"sr%\",\n      \"properties\": {\n        \"dtype\": \"number\",\n        \"std\": 0.010928560514585519,\n        \"min\": 0.0,\n        \"max\": 0.3,\n        \"num_unique_values\": 428,\n        \"samples\": [\n          0.010702197963906836,\n          0.008695652173913044,\n          0.0017217630853994489\n        ],\n        \"semantic_type\": \"\",\n        \"description\": \"\"\n      }\n    }\n  ]\n}",
              "type": "dataframe",
              "variable_name": "data_sr"
            },
            "text/html": [
              "\n",
              "  <div id=\"df-4d988096-17e9-45a3-8e2d-9f7ba25428a3\" class=\"colab-df-container\">\n",
              "    <div>\n",
              "<style scoped>\n",
              "    .dataframe tbody tr th:only-of-type {\n",
              "        vertical-align: middle;\n",
              "    }\n",
              "\n",
              "    .dataframe tbody tr th {\n",
              "        vertical-align: top;\n",
              "    }\n",
              "\n",
              "    .dataframe thead th {\n",
              "        text-align: right;\n",
              "    }\n",
              "</style>\n",
              "<table border=\"1\" class=\"dataframe\">\n",
              "  <thead>\n",
              "    <tr style=\"text-align: right;\">\n",
              "      <th></th>\n",
              "      <th>cycle_id</th>\n",
              "      <th>ekor</th>\n",
              "      <th>total_seed</th>\n",
              "      <th>total_seed_type</th>\n",
              "      <th>sr%</th>\n",
              "    </tr>\n",
              "  </thead>\n",
              "  <tbody>\n",
              "    <tr>\n",
              "      <th>0</th>\n",
              "      <td>17125</td>\n",
              "      <td>1</td>\n",
              "      <td>188000</td>\n",
              "      <td>net</td>\n",
              "      <td>0.000532</td>\n",
              "    </tr>\n",
              "    <tr>\n",
              "      <th>1</th>\n",
              "      <td>26058</td>\n",
              "      <td>4</td>\n",
              "      <td>148007</td>\n",
              "      <td>net</td>\n",
              "      <td>0.002703</td>\n",
              "    </tr>\n",
              "    <tr>\n",
              "      <th>2</th>\n",
              "      <td>26058</td>\n",
              "      <td>5</td>\n",
              "      <td>148007</td>\n",
              "      <td>net</td>\n",
              "      <td>0.003378</td>\n",
              "    </tr>\n",
              "    <tr>\n",
              "      <th>3</th>\n",
              "      <td>26058</td>\n",
              "      <td>11</td>\n",
              "      <td>148007</td>\n",
              "      <td>net</td>\n",
              "      <td>0.007432</td>\n",
              "    </tr>\n",
              "    <tr>\n",
              "      <th>4</th>\n",
              "      <td>26058</td>\n",
              "      <td>17</td>\n",
              "      <td>148007</td>\n",
              "      <td>net</td>\n",
              "      <td>0.011486</td>\n",
              "    </tr>\n",
              "    <tr>\n",
              "      <th>...</th>\n",
              "      <td>...</td>\n",
              "      <td>...</td>\n",
              "      <td>...</td>\n",
              "      <td>...</td>\n",
              "      <td>...</td>\n",
              "    </tr>\n",
              "    <tr>\n",
              "      <th>1116</th>\n",
              "      <td>27552</td>\n",
              "      <td>5</td>\n",
              "      <td>100000</td>\n",
              "      <td>net</td>\n",
              "      <td>0.005000</td>\n",
              "    </tr>\n",
              "    <tr>\n",
              "      <th>1117</th>\n",
              "      <td>27552</td>\n",
              "      <td>0</td>\n",
              "      <td>100000</td>\n",
              "      <td>net</td>\n",
              "      <td>0.000000</td>\n",
              "    </tr>\n",
              "    <tr>\n",
              "      <th>1118</th>\n",
              "      <td>15868</td>\n",
              "      <td>1</td>\n",
              "      <td>150000</td>\n",
              "      <td>gross</td>\n",
              "      <td>0.000667</td>\n",
              "    </tr>\n",
              "    <tr>\n",
              "      <th>1119</th>\n",
              "      <td>15868</td>\n",
              "      <td>1</td>\n",
              "      <td>150000</td>\n",
              "      <td>gross</td>\n",
              "      <td>0.000667</td>\n",
              "    </tr>\n",
              "    <tr>\n",
              "      <th>1120</th>\n",
              "      <td>15868</td>\n",
              "      <td>0</td>\n",
              "      <td>150000</td>\n",
              "      <td>gross</td>\n",
              "      <td>0.000000</td>\n",
              "    </tr>\n",
              "  </tbody>\n",
              "</table>\n",
              "<p>1121 rows × 5 columns</p>\n",
              "</div>\n",
              "    <div class=\"colab-df-buttons\">\n",
              "\n",
              "  <div class=\"colab-df-container\">\n",
              "    <button class=\"colab-df-convert\" onclick=\"convertToInteractive('df-4d988096-17e9-45a3-8e2d-9f7ba25428a3')\"\n",
              "            title=\"Convert this dataframe to an interactive table.\"\n",
              "            style=\"display:none;\">\n",
              "\n",
              "  <svg xmlns=\"http://www.w3.org/2000/svg\" height=\"24px\" viewBox=\"0 -960 960 960\">\n",
              "    <path d=\"M120-120v-720h720v720H120Zm60-500h600v-160H180v160Zm220 220h160v-160H400v160Zm0 220h160v-160H400v160ZM180-400h160v-160H180v160Zm440 0h160v-160H620v160ZM180-180h160v-160H180v160Zm440 0h160v-160H620v160Z\"/>\n",
              "  </svg>\n",
              "    </button>\n",
              "\n",
              "  <style>\n",
              "    .colab-df-container {\n",
              "      display:flex;\n",
              "      gap: 12px;\n",
              "    }\n",
              "\n",
              "    .colab-df-convert {\n",
              "      background-color: #E8F0FE;\n",
              "      border: none;\n",
              "      border-radius: 50%;\n",
              "      cursor: pointer;\n",
              "      display: none;\n",
              "      fill: #1967D2;\n",
              "      height: 32px;\n",
              "      padding: 0 0 0 0;\n",
              "      width: 32px;\n",
              "    }\n",
              "\n",
              "    .colab-df-convert:hover {\n",
              "      background-color: #E2EBFA;\n",
              "      box-shadow: 0px 1px 2px rgba(60, 64, 67, 0.3), 0px 1px 3px 1px rgba(60, 64, 67, 0.15);\n",
              "      fill: #174EA6;\n",
              "    }\n",
              "\n",
              "    .colab-df-buttons div {\n",
              "      margin-bottom: 4px;\n",
              "    }\n",
              "\n",
              "    [theme=dark] .colab-df-convert {\n",
              "      background-color: #3B4455;\n",
              "      fill: #D2E3FC;\n",
              "    }\n",
              "\n",
              "    [theme=dark] .colab-df-convert:hover {\n",
              "      background-color: #434B5C;\n",
              "      box-shadow: 0px 1px 3px 1px rgba(0, 0, 0, 0.15);\n",
              "      filter: drop-shadow(0px 1px 2px rgba(0, 0, 0, 0.3));\n",
              "      fill: #FFFFFF;\n",
              "    }\n",
              "  </style>\n",
              "\n",
              "    <script>\n",
              "      const buttonEl =\n",
              "        document.querySelector('#df-4d988096-17e9-45a3-8e2d-9f7ba25428a3 button.colab-df-convert');\n",
              "      buttonEl.style.display =\n",
              "        google.colab.kernel.accessAllowed ? 'block' : 'none';\n",
              "\n",
              "      async function convertToInteractive(key) {\n",
              "        const element = document.querySelector('#df-4d988096-17e9-45a3-8e2d-9f7ba25428a3');\n",
              "        const dataTable =\n",
              "          await google.colab.kernel.invokeFunction('convertToInteractive',\n",
              "                                                    [key], {});\n",
              "        if (!dataTable) return;\n",
              "\n",
              "        const docLinkHtml = 'Like what you see? Visit the ' +\n",
              "          '<a target=\"_blank\" href=https://colab.research.google.com/notebooks/data_table.ipynb>data table notebook</a>'\n",
              "          + ' to learn more about interactive tables.';\n",
              "        element.innerHTML = '';\n",
              "        dataTable['output_type'] = 'display_data';\n",
              "        await google.colab.output.renderOutput(dataTable, element);\n",
              "        const docLink = document.createElement('div');\n",
              "        docLink.innerHTML = docLinkHtml;\n",
              "        element.appendChild(docLink);\n",
              "      }\n",
              "    </script>\n",
              "  </div>\n",
              "\n",
              "\n",
              "<div id=\"df-40a0ac9e-5c8e-46c5-854b-5a7b817f6585\">\n",
              "  <button class=\"colab-df-quickchart\" onclick=\"quickchart('df-40a0ac9e-5c8e-46c5-854b-5a7b817f6585')\"\n",
              "            title=\"Suggest charts\"\n",
              "            style=\"display:none;\">\n",
              "\n",
              "<svg xmlns=\"http://www.w3.org/2000/svg\" height=\"24px\"viewBox=\"0 0 24 24\"\n",
              "     width=\"24px\">\n",
              "    <g>\n",
              "        <path d=\"M19 3H5c-1.1 0-2 .9-2 2v14c0 1.1.9 2 2 2h14c1.1 0 2-.9 2-2V5c0-1.1-.9-2-2-2zM9 17H7v-7h2v7zm4 0h-2V7h2v10zm4 0h-2v-4h2v4z\"/>\n",
              "    </g>\n",
              "</svg>\n",
              "  </button>\n",
              "\n",
              "<style>\n",
              "  .colab-df-quickchart {\n",
              "      --bg-color: #E8F0FE;\n",
              "      --fill-color: #1967D2;\n",
              "      --hover-bg-color: #E2EBFA;\n",
              "      --hover-fill-color: #174EA6;\n",
              "      --disabled-fill-color: #AAA;\n",
              "      --disabled-bg-color: #DDD;\n",
              "  }\n",
              "\n",
              "  [theme=dark] .colab-df-quickchart {\n",
              "      --bg-color: #3B4455;\n",
              "      --fill-color: #D2E3FC;\n",
              "      --hover-bg-color: #434B5C;\n",
              "      --hover-fill-color: #FFFFFF;\n",
              "      --disabled-bg-color: #3B4455;\n",
              "      --disabled-fill-color: #666;\n",
              "  }\n",
              "\n",
              "  .colab-df-quickchart {\n",
              "    background-color: var(--bg-color);\n",
              "    border: none;\n",
              "    border-radius: 50%;\n",
              "    cursor: pointer;\n",
              "    display: none;\n",
              "    fill: var(--fill-color);\n",
              "    height: 32px;\n",
              "    padding: 0;\n",
              "    width: 32px;\n",
              "  }\n",
              "\n",
              "  .colab-df-quickchart:hover {\n",
              "    background-color: var(--hover-bg-color);\n",
              "    box-shadow: 0 1px 2px rgba(60, 64, 67, 0.3), 0 1px 3px 1px rgba(60, 64, 67, 0.15);\n",
              "    fill: var(--button-hover-fill-color);\n",
              "  }\n",
              "\n",
              "  .colab-df-quickchart-complete:disabled,\n",
              "  .colab-df-quickchart-complete:disabled:hover {\n",
              "    background-color: var(--disabled-bg-color);\n",
              "    fill: var(--disabled-fill-color);\n",
              "    box-shadow: none;\n",
              "  }\n",
              "\n",
              "  .colab-df-spinner {\n",
              "    border: 2px solid var(--fill-color);\n",
              "    border-color: transparent;\n",
              "    border-bottom-color: var(--fill-color);\n",
              "    animation:\n",
              "      spin 1s steps(1) infinite;\n",
              "  }\n",
              "\n",
              "  @keyframes spin {\n",
              "    0% {\n",
              "      border-color: transparent;\n",
              "      border-bottom-color: var(--fill-color);\n",
              "      border-left-color: var(--fill-color);\n",
              "    }\n",
              "    20% {\n",
              "      border-color: transparent;\n",
              "      border-left-color: var(--fill-color);\n",
              "      border-top-color: var(--fill-color);\n",
              "    }\n",
              "    30% {\n",
              "      border-color: transparent;\n",
              "      border-left-color: var(--fill-color);\n",
              "      border-top-color: var(--fill-color);\n",
              "      border-right-color: var(--fill-color);\n",
              "    }\n",
              "    40% {\n",
              "      border-color: transparent;\n",
              "      border-right-color: var(--fill-color);\n",
              "      border-top-color: var(--fill-color);\n",
              "    }\n",
              "    60% {\n",
              "      border-color: transparent;\n",
              "      border-right-color: var(--fill-color);\n",
              "    }\n",
              "    80% {\n",
              "      border-color: transparent;\n",
              "      border-right-color: var(--fill-color);\n",
              "      border-bottom-color: var(--fill-color);\n",
              "    }\n",
              "    90% {\n",
              "      border-color: transparent;\n",
              "      border-bottom-color: var(--fill-color);\n",
              "    }\n",
              "  }\n",
              "</style>\n",
              "\n",
              "  <script>\n",
              "    async function quickchart(key) {\n",
              "      const quickchartButtonEl =\n",
              "        document.querySelector('#' + key + ' button');\n",
              "      quickchartButtonEl.disabled = true;  // To prevent multiple clicks.\n",
              "      quickchartButtonEl.classList.add('colab-df-spinner');\n",
              "      try {\n",
              "        const charts = await google.colab.kernel.invokeFunction(\n",
              "            'suggestCharts', [key], {});\n",
              "      } catch (error) {\n",
              "        console.error('Error during call to suggestCharts:', error);\n",
              "      }\n",
              "      quickchartButtonEl.classList.remove('colab-df-spinner');\n",
              "      quickchartButtonEl.classList.add('colab-df-quickchart-complete');\n",
              "    }\n",
              "    (() => {\n",
              "      let quickchartButtonEl =\n",
              "        document.querySelector('#df-40a0ac9e-5c8e-46c5-854b-5a7b817f6585 button');\n",
              "      quickchartButtonEl.style.display =\n",
              "        google.colab.kernel.accessAllowed ? 'block' : 'none';\n",
              "    })();\n",
              "  </script>\n",
              "</div>\n",
              "    </div>\n",
              "  </div>\n"
            ],
            "text/plain": [
              "      cycle_id  ekor  total_seed total_seed_type       sr%\n",
              "0        17125     1      188000             net  0.000532\n",
              "1        26058     4      148007             net  0.002703\n",
              "2        26058     5      148007             net  0.003378\n",
              "3        26058    11      148007             net  0.007432\n",
              "4        26058    17      148007             net  0.011486\n",
              "...        ...   ...         ...             ...       ...\n",
              "1116     27552     5      100000             net  0.005000\n",
              "1117     27552     0      100000             net  0.000000\n",
              "1118     15868     1      150000           gross  0.000667\n",
              "1119     15868     1      150000           gross  0.000667\n",
              "1120     15868     0      150000           gross  0.000000\n",
              "\n",
              "[1121 rows x 5 columns]"
            ]
          },
          "execution_count": 17,
          "metadata": {},
          "output_type": "execute_result"
        }
      ],
      "source": [
        "data_sr"
      ]
    },
    {
      "cell_type": "code",
      "execution_count": 18,
      "metadata": {
        "id": "Nk9qRIryjaMI"
      },
      "outputs": [],
      "source": [
        "data_sr_fix =  pd.merge(data_feed_tray, data_feeds, on='cycle_id', how='inner')\n"
      ]
    },
    {
      "cell_type": "code",
      "execution_count": null,
      "metadata": {
        "id": "R6eIqHGs_Wgk"
      },
      "outputs": [],
      "source": [
        "data_sr_fix =  pd.merge(data_sr_fix, data_sr, on='cycle_id', how='inner')"
      ]
    },
    {
      "cell_type": "code",
      "execution_count": null,
      "metadata": {
        "id": "u2XdtGarlXy2"
      },
      "outputs": [],
      "source": [
        "data_sr_fix.head()"
      ]
    },
    {
      "cell_type": "code",
      "execution_count": null,
      "metadata": {
        "id": "MtElVZF7ly_9"
      },
      "outputs": [],
      "source": [
        "data_sr_fix['total_seed'] = data_sr_fix['total_seed'] / 1000"
      ]
    },
    {
      "cell_type": "code",
      "execution_count": null,
      "metadata": {
        "id": "4x19YQ84h3e4"
      },
      "outputs": [],
      "source": [
        "replacements = {'actual': '1', 'net': '0'}\n",
        "\n",
        "# replace values using the .map() method\n",
        "data_sr_fix['total_seed_type'] = data_sr_fix['total_seed_type'].map(replacements).fillna(data_sr_fix['total_seed_type'])"
      ]
    },
    {
      "cell_type": "code",
      "execution_count": null,
      "metadata": {
        "id": "_NTUxeH7gxU1"
      },
      "outputs": [],
      "source": [
        "data_sr_fix = data_sr_fix[['tray_number','feed_remaining_percent','quantity','ekor','total_seed','total_seed_type','sr%']]"
      ]
    },
    {
      "cell_type": "code",
      "execution_count": null,
      "metadata": {
        "id": "8NSJqs5ijcHl"
      },
      "outputs": [],
      "source": [
        "data_sr_fix.corr()"
      ]
    },
    {
      "cell_type": "code",
      "execution_count": null,
      "metadata": {
        "id": "VRxnI-0UmFeS"
      },
      "outputs": [],
      "source": [
        "data_sr_m= data_sr_fix[['ekor','quantity','sr%']]"
      ]
    },
    {
      "cell_type": "code",
      "execution_count": null,
      "metadata": {
        "id": "dX9W7JTrmWn_"
      },
      "outputs": [],
      "source": [
        "data_sr_m.to_csv('data_sr_m.csv')"
      ]
    },
    {
      "cell_type": "markdown",
      "metadata": {
        "id": "MwxPU13lu8Tt"
      },
      "source": [
        "Data SR(total) (Jumlah Udang Panen / Jumlah Benur Tebar) x 100%"
      ]
    },
    {
      "cell_type": "code",
      "execution_count": null,
      "metadata": {
        "id": "-vmriG_irgm8"
      },
      "outputs": [],
      "source": [
        "#jumlah total ekor udang\n",
        "sum_total_ekor = merge_df['ekor'].sum()"
      ]
    },
    {
      "cell_type": "code",
      "execution_count": null,
      "metadata": {
        "id": "qYO4RvZ2vTzE"
      },
      "outputs": [],
      "source": [
        "#jumlah total penyebaran benih\n",
        "sum_total_seed = merge_df['total_seed'].sum()"
      ]
    },
    {
      "cell_type": "markdown",
      "metadata": {
        "id": "95rJjR1F4Wvc"
      },
      "source": [
        "Survival rate Total"
      ]
    },
    {
      "cell_type": "code",
      "execution_count": null,
      "metadata": {
        "id": "Vmy3Yzhuvpun"
      },
      "outputs": [],
      "source": [
        "sr=sum_total_ekor/sum_total_seed*100\n",
        "print(sr)"
      ]
    },
    {
      "cell_type": "markdown",
      "metadata": {
        "id": "VFd2iZRR4gCS"
      },
      "source": [
        "##Menghitung ADG"
      ]
    },
    {
      "cell_type": "markdown",
      "metadata": {
        "id": "TeJBtTYnB0HB"
      },
      "source": [
        "Menggbungkan data_sampling ABW dengan data_harvests"
      ]
    },
    {
      "cell_type": "code",
      "execution_count": null,
      "metadata": {
        "id": "2lnLp6hZG3f0"
      },
      "outputs": [],
      "source": [
        "#membulatkan nilai abw\n",
        "data_samplings['abw_round']=round(data_samplings['average_weight'])"
      ]
    },
    {
      "cell_type": "code",
      "execution_count": null,
      "metadata": {
        "id": "PUd2GlBdCsjf"
      },
      "outputs": [],
      "source": [
        "merge_second = pd.merge(data_harvests, data_samplings, on='cycle_id', how='inner')"
      ]
    },
    {
      "cell_type": "markdown",
      "metadata": {
        "id": "4tchKoXYNn06"
      },
      "source": [
        "Menghitung jumlah sampel udang = abw/berat udang"
      ]
    },
    {
      "cell_type": "code",
      "execution_count": null,
      "metadata": {
        "id": "QZpMQOguDDwB"
      },
      "outputs": [],
      "source": [
        "#dalam gram\n",
        "merge_second['sum_sample_g']= merge_second['abw_round']/ merge_second['weight'] * 1000"
      ]
    },
    {
      "cell_type": "code",
      "execution_count": null,
      "metadata": {
        "id": "613w-aBQKAIG"
      },
      "outputs": [],
      "source": [
        "#dalam kg\n",
        "merge_second['sum_sample_kg']= (merge_second['abw_round']/1000)/ merge_second['weight']"
      ]
    },
    {
      "cell_type": "code",
      "execution_count": null,
      "metadata": {
        "id": "kUqrLOAdDjte"
      },
      "outputs": [],
      "source": [
        "merge_second['abw_round'].head(20)"
      ]
    },
    {
      "cell_type": "code",
      "execution_count": null,
      "metadata": {
        "id": "696-jaVhE5d7"
      },
      "outputs": [],
      "source": [
        "merge_second['average_weight'].head(20)"
      ]
    },
    {
      "cell_type": "code",
      "execution_count": null,
      "metadata": {
        "id": "x8oWtrAlJgfd"
      },
      "outputs": [],
      "source": [
        "merge_second['sum_sample_g'].head(20)"
      ]
    },
    {
      "cell_type": "code",
      "execution_count": null,
      "metadata": {
        "id": "eN7l9wa7L0iq"
      },
      "outputs": [],
      "source": [
        "merge_second.head(20)"
      ]
    },
    {
      "cell_type": "markdown",
      "metadata": {
        "id": "yrVDgg0kKPNy"
      },
      "source": [
        "Menghitung ADR"
      ]
    },
    {
      "cell_type": "code",
      "execution_count": null,
      "metadata": {
        "id": "8rMU-PhvKRYS"
      },
      "outputs": [],
      "source": [
        "#menggabungkan data sebelumnya\n",
        "adr_g=pd.DataFrame({\n",
        "    'cycle_id': merge_second['cycle_id'],\n",
        "    'sampled_at':merge_second['sampled_at'],\n",
        "     'weight' : merge_second['weight'],\n",
        "    'sum_sample_g': merge_second['sum_sample_g'],\n",
        "    'sum_sample_kg': merge_second['sum_sample_kg'],\n",
        "    'abw': merge_second['average_weight'],\n",
        "    'abw_round': merge_second['abw_round'],\n",
        "})"
      ]
    },
    {
      "cell_type": "code",
      "execution_count": null,
      "metadata": {
        "id": "hR4o7IQgVGnz"
      },
      "outputs": [],
      "source": [
        "if not pd.api.types.is_datetime64_dtype(adr_g['sampled_at']):\n",
        "    adr_g['sampled_at'] = pd.to_datetime(adr_g['sampled_at'])\n"
      ]
    },
    {
      "cell_type": "markdown",
      "metadata": {
        "id": "sXzxW1_bHiyS"
      },
      "source": [
        "Membuat selisih hari"
      ]
    },
    {
      "cell_type": "code",
      "execution_count": null,
      "metadata": {
        "id": "OF0GbNtObyxQ"
      },
      "outputs": [],
      "source": [
        "# Calculate the difference between sampled_at values within each cycle_id\n",
        "adr_g['diff_d'] = adr_g.groupby('cycle_id')['sampled_at'].diff().dt.days\n"
      ]
    },
    {
      "cell_type": "code",
      "execution_count": null,
      "metadata": {
        "id": "Wp78G2svCGt8"
      },
      "outputs": [],
      "source": [
        "adr_g['diff_d'].head()"
      ]
    },
    {
      "cell_type": "markdown",
      "metadata": {
        "id": "Kdm6auBUHntB"
      },
      "source": [
        "Membuat selisih abw"
      ]
    },
    {
      "cell_type": "code",
      "execution_count": null,
      "metadata": {
        "id": "3SXyhnqeDcUK"
      },
      "outputs": [],
      "source": [
        "\n",
        "# Assuming you have the DataFrame 'adr_g'\n",
        "# (Make sure it contains the 'cycle_id' and 'abw_round' columns)\n",
        "\n",
        "# Calculate the difference of abw_round within each cycle_id\n",
        "adr_g['diff_abw_round'] = adr_g.groupby('cycle_id')['abw_round'].diff()\n",
        "\n",
        "# Print the DataFrame with the new column\n",
        "print(adr_g)\n"
      ]
    },
    {
      "cell_type": "code",
      "execution_count": null,
      "metadata": {
        "id": "-5d-DHiVYR39"
      },
      "outputs": [],
      "source": [
        "adr_g['diff_abw'] = adr_g.groupby('cycle_id')['abw'].diff()"
      ]
    },
    {
      "cell_type": "markdown",
      "metadata": {
        "id": "k2_LkfEmIRHE"
      },
      "source": [
        "Mengisi Nilai kosong"
      ]
    },
    {
      "cell_type": "code",
      "execution_count": null,
      "metadata": {
        "id": "e2Y35SQ4IK_E"
      },
      "outputs": [],
      "source": [
        "adr_g = adr_g.fillna(0)"
      ]
    },
    {
      "cell_type": "markdown",
      "metadata": {
        "id": "SFQfeU4ZHyFC"
      },
      "source": [
        "Pembagian selisih abw/selisih diff_d"
      ]
    },
    {
      "cell_type": "code",
      "execution_count": null,
      "metadata": {
        "id": "5THJkXSXD6Qm"
      },
      "outputs": [],
      "source": [
        "adr_g['adr_result_r'] = adr_g['diff_abw_round']/adr_g['diff_d']\n",
        "adr_g['adr_result'] = adr_g['diff_abw']/adr_g['diff_d']"
      ]
    },
    {
      "cell_type": "markdown",
      "metadata": {
        "id": "RDRZnnl6Hrjg"
      },
      "source": [
        "Mengisi nilai kosong"
      ]
    },
    {
      "cell_type": "code",
      "execution_count": null,
      "metadata": {
        "id": "yzbI4PYvEPS7"
      },
      "outputs": [],
      "source": [
        "adr_g['adr_result'] = adr_g['adr_result'].fillna(0)\n",
        "adr_g['adr_result_r'] = adr_g['adr_result_r'].fillna(0)"
      ]
    },
    {
      "cell_type": "code",
      "execution_count": null,
      "metadata": {
        "id": "F7iLfKWEm85H"
      },
      "outputs": [],
      "source": [
        "adr_g"
      ]
    },
    {
      "cell_type": "markdown",
      "metadata": {
        "id": "Z2MCXlUKXf9D"
      },
      "source": [
        "Hasil ADR"
      ]
    },
    {
      "cell_type": "code",
      "execution_count": null,
      "metadata": {
        "id": "5KXlvFGmXhqa"
      },
      "outputs": [],
      "source": [
        "adr_result = adr_g[['cycle_id','sampled_at','diff_abw_round','diff_abw','diff_d','adr_result','adr_result_r']]"
      ]
    },
    {
      "cell_type": "code",
      "execution_count": null,
      "metadata": {
        "id": "kvtAd2RtX4rz"
      },
      "outputs": [],
      "source": [
        "adr_result.head()"
      ]
    },
    {
      "cell_type": "code",
      "execution_count": null,
      "metadata": {
        "id": "RyMubAUKgsip"
      },
      "outputs": [],
      "source": [
        "abww = pd.merge(adr_result,data_feeds, on=\"cycle_id\", how=\"inner\")"
      ]
    },
    {
      "cell_type": "code",
      "execution_count": null,
      "metadata": {
        "id": "U4d2LOh_4b36"
      },
      "outputs": [],
      "source": [
        "abww = pd.merge(abww,data_feed_tray, on=\"cycle_id\", how=\"inner\")"
      ]
    },
    {
      "cell_type": "code",
      "execution_count": null,
      "metadata": {
        "id": "WVWfzq4k4jk_"
      },
      "outputs": [],
      "source": [
        "abww = pd.merge(abww,data_cycles, on=\"cycle_id\", how=\"inner\")"
      ]
    },
    {
      "cell_type": "code",
      "execution_count": null,
      "metadata": {
        "id": "r7nHhX7Y7mrJ"
      },
      "outputs": [],
      "source": [
        "abww = pd.merge(abww,data_harvests, on=\"cycle_id\", how=\"inner\")"
      ]
    },
    {
      "cell_type": "code",
      "execution_count": null,
      "metadata": {
        "id": "nvCftlBz6x0S"
      },
      "outputs": [],
      "source": [
        "abww['harvest_at'] = pd.to_datetime(abww['harvests_at'])\n",
        "abww['started_at'] = pd.to_datetime(abww['started_at'])"
      ]
    },
    {
      "cell_type": "code",
      "execution_count": null,
      "metadata": {
        "id": "kiJyO9Od8B7g"
      },
      "outputs": [],
      "source": [
        "abww['usia_budidaya'] = abww['harvest_at']- abww['started_at']"
      ]
    },
    {
      "cell_type": "markdown",
      "metadata": {
        "id": "kGMn5NemXNzj"
      },
      "source": [
        "## Jawaban No.3"
      ]
    },
    {
      "cell_type": "markdown",
      "metadata": {
        "id": "_t1WDkqkJuhS"
      },
      "source": [
        "Biomass\n",
        "Jumlah total berat udang yang diperkirakan hidup di dalam kolam. Biasa dihitung dalam unit kilogram. Cara menghitungnya kurang lebih dengan mengkalikan nilai ABW dengan total populasi udang yang masih hidup di dalam kolam.\n",
        "\n",
        "Revenue forecast. Ini cek aja tabel harvest, di situ kan ada nilai selling price terhadap size dan weightnya, coba deh dicari tau itu korelasinya seperti apa"
      ]
    },
    {
      "cell_type": "code",
      "execution_count": null,
      "metadata": {
        "id": "_-6JYnBofefG"
      },
      "outputs": [],
      "source": [
        "adr_g.head()"
      ]
    },
    {
      "cell_type": "markdown",
      "metadata": {
        "id": "g249PoEVMlRa"
      },
      "source": [
        "Membuat data Biomass"
      ]
    },
    {
      "cell_type": "code",
      "execution_count": null,
      "metadata": {
        "id": "YRlLjxd9PZaF"
      },
      "outputs": [],
      "source": [
        "data_biomass = pd.merge(adr_g, data_cycles, on='cycle_id', how='inner')"
      ]
    },
    {
      "cell_type": "code",
      "execution_count": null,
      "metadata": {
        "id": "So31kKhiQ6mH"
      },
      "outputs": [],
      "source": [
        "data_biomass['abw'].head()"
      ]
    },
    {
      "cell_type": "code",
      "execution_count": null,
      "metadata": {
        "id": "7YPzaYvuRmUF"
      },
      "outputs": [],
      "source": [
        "data_biomass['biomass_result']= data_biomass['total_seed'] * data_biomass['abw']"
      ]
    },
    {
      "cell_type": "code",
      "execution_count": null,
      "metadata": {
        "id": "u9GfrmlLR3aj"
      },
      "outputs": [],
      "source": [
        "data_biomass['biomass_result_round']= data_biomass['total_seed'] * data_biomass['abw_round']"
      ]
    },
    {
      "cell_type": "code",
      "execution_count": null,
      "metadata": {
        "id": "9KeVyyzsSCkO"
      },
      "outputs": [],
      "source": [
        "data_biomass.to_csv('data_biomass.csv')"
      ]
    },
    {
      "cell_type": "markdown",
      "metadata": {
        "id": "iHfIU1cHJNlK"
      },
      "source": [
        "Transformasi data sebelum Modeling"
      ]
    },
    {
      "cell_type": "markdown",
      "metadata": {
        "id": "CDx8u2eHciZQ"
      },
      "source": [
        "##Prediksi Model Revenue forecast"
      ]
    },
    {
      "cell_type": "code",
      "execution_count": null,
      "metadata": {
        "id": "eL_OtSnBcna9"
      },
      "outputs": [],
      "source": [
        "data_harvests.head(70)"
      ]
    },
    {
      "cell_type": "code",
      "execution_count": null,
      "metadata": {
        "id": "jVt78W6Ze8oy"
      },
      "outputs": [],
      "source": [
        "if not pd.api.types.is_datetime64_dtype(data_harvests['harvested_at']):\n",
        "    data_harvests['harvested_at'] = pd.to_datetime(data_harvests['harvested_at'])"
      ]
    },
    {
      "cell_type": "code",
      "execution_count": null,
      "metadata": {
        "id": "Z92v_KIleRJN"
      },
      "outputs": [],
      "source": [
        "# Extract date components (year, month, day)\n",
        "data_harvests['month'] = data_harvests['harvested_at'].dt.month\n",
        "\n",
        "# Extract time components (hour, minute, second)\n",
        "data_harvests['day'] = data_harvests['harvested_at'].dt.day\n",
        "\n",
        "data_harvests['year'] = data_harvests['harvested_at'].dt.year"
      ]
    },
    {
      "cell_type": "code",
      "execution_count": null,
      "metadata": {
        "id": "2bkdQLZGftxW"
      },
      "outputs": [],
      "source": [
        "if not pd.api.types.is_datetime64_dtype(data_harvests['created_at']):\n",
        "    data_harvests['created_at'] = pd.to_datetime(data_harvests['created_at'])"
      ]
    },
    {
      "cell_type": "code",
      "execution_count": null,
      "metadata": {
        "id": "JeAdfUihgHwY"
      },
      "outputs": [],
      "source": [
        "# Extract date components (year, month, day)\n",
        "data_harvests['c_month'] = data_harvests['created_at'].dt.month\n",
        "\n",
        "# Extract time components (hour, minute, second)\n",
        "data_harvests['c_day'] = data_harvests['created_at'].dt.day\n",
        "\n",
        "data_harvests['c_year'] = data_harvests['created_at'].dt.year"
      ]
    },
    {
      "cell_type": "code",
      "execution_count": null,
      "metadata": {
        "id": "ehFpPHwdgmJh"
      },
      "outputs": [],
      "source": [
        "\n",
        "data_h = data_harvests[['c_day','c_month','c_year','month','day','year','weight','size','ekor','status','selling_price']]"
      ]
    },
    {
      "cell_type": "code",
      "execution_count": null,
      "metadata": {
        "id": "EqY2s2w9h29X"
      },
      "outputs": [],
      "source": [
        "import pandas as pd\n",
        "from sklearn.preprocessing import LabelEncoder"
      ]
    },
    {
      "cell_type": "code",
      "execution_count": null,
      "metadata": {
        "id": "kbkt91hEjIf9"
      },
      "outputs": [],
      "source": [
        "# Urutkan kolom kategorikal\n",
        "data_h['status'] = data_h['status'].sort_values()\n",
        "data_h['c_day'] = data_h['c_day'].sort_values()\n",
        "data_h['c_month'] = data_h['c_month'].sort_values()\n",
        "data_h['c_year'] = data_h['c_year'].sort_values()\n",
        "data_h['day'] = data_h['day'].sort_values()\n",
        "data_h['month'] = data_h['month'].sort_values()\n",
        "data_h['year'] = data_h['year'].sort_values()\n"
      ]
    },
    {
      "cell_type": "code",
      "execution_count": null,
      "metadata": {
        "id": "UWf-h75Qjx7c"
      },
      "outputs": [],
      "source": [
        "# Buat encoder untuk kolom 'status'\n",
        "status_encoder = LabelEncoder()\n",
        "data_h['status_encoded'] = status_encoder.fit_transform(data_h['status'])\n",
        "\n",
        "# Buat encoder untuk kolom 'c_day'\n",
        "c_day_encoder = LabelEncoder()\n",
        "data_h['c_day_encoded'] = c_day_encoder.fit_transform(data_h['c_day'])\n",
        "\n",
        "# Buat encoder untuk kolom 'c_month'\n",
        "c_month_encoder = LabelEncoder()\n",
        "data_h['c_month_encoded'] = c_month_encoder.fit_transform(data_h['c_month'])\n",
        "\n",
        "# Buat encoder untuk kolom 'c_year'\n",
        "c_year_encoder = LabelEncoder()\n",
        "data_h['c_year_encoded'] = c_year_encoder.fit_transform(data_h['c_year'])\n",
        "\n",
        "# Buat encoder untuk kolom 'day'\n",
        "day_encoder = LabelEncoder()\n",
        "data_h['day_encoded'] = day_encoder.fit_transform(data_h['day'])\n",
        "\n",
        "# Buat encoder untuk kolom 'month'\n",
        "month_encoder = LabelEncoder()\n",
        "data_h['month_encoded'] = month_encoder.fit_transform(data_h['month'])\n",
        "\n",
        "# Buat encoder untuk kolom 'year'\n",
        "year_encoder = LabelEncoder()\n",
        "data_h['year_encoded'] = year_encoder.fit_transform(data_h['year'])\n"
      ]
    },
    {
      "cell_type": "code",
      "execution_count": null,
      "metadata": {
        "id": "do6WDji9kpuq"
      },
      "outputs": [],
      "source": [
        "# Ubah nilai label menjadi terurut\n",
        "status_mapping = dict(zip(status_encoder.classes_, status_encoder.transform(status_encoder.classes_)))\n",
        "data_h['status_encoded'] = data_h['status_encoded'].replace(status_mapping)\n",
        "\n",
        "c_day_mapping = dict(zip(c_day_encoder.classes_, c_day_encoder.transform(c_day_encoder.classes_)))\n",
        "data_h['c_day_encoded'] = data_h['c_day_encoded'].replace(c_day_mapping)\n",
        "\n",
        "c_month_mapping = dict(zip(c_month_encoder.classes_, c_month_encoder.transform(c_month_encoder.classes_)))\n",
        "data_h['c_month_encoded'] = data_h['c_month_encoded'].replace(c_month_mapping)\n",
        "\n",
        "c_year_mapping = dict(zip(c_year_encoder.classes_, c_year_encoder.transform(c_year_encoder.classes_)))\n",
        "data_h['c_year_encoded'] = data_h['c_year_encoded'].replace(c_year_mapping)"
      ]
    },
    {
      "cell_type": "code",
      "execution_count": null,
      "metadata": {
        "id": "qWzkknWblIl6"
      },
      "outputs": [],
      "source": [
        "day_mapping = dict(zip(day_encoder.classes_, day_encoder.transform(day_encoder.classes_)))\n",
        "data_h['day_encoded'] = data_h['day_encoded'].replace(day_mapping)\n",
        "\n",
        "month_mapping = dict(zip(month_encoder.classes_, month_encoder.transform(month_encoder.classes_)))\n",
        "data_h['month_encoded'] = data_h['month_encoded'].replace(month_mapping)\n",
        "\n",
        "year_mapping = dict(zip(year_encoder.classes_, year_encoder.transform(year_encoder.classes_)))\n",
        "data_h['year_encoded'] = data_h['year_encoded'].replace(year_mapping)"
      ]
    },
    {
      "cell_type": "code",
      "execution_count": null,
      "metadata": {
        "id": "gqzWjhUhmvY2"
      },
      "outputs": [],
      "source": [
        "data_h= data_h.drop(columns=['c_month','c_year','month','year','c_day_encoded','day_encoded','status'])"
      ]
    },
    {
      "cell_type": "code",
      "execution_count": null,
      "metadata": {
        "id": "1Z9k_Bbonk9M"
      },
      "outputs": [],
      "source": [
        "data_h.corr()"
      ]
    },
    {
      "cell_type": "markdown",
      "metadata": {
        "id": "ken4jmj7p5TD"
      },
      "source": []
    }
  ],
  "metadata": {
    "colab": {
      "provenance": []
    },
    "kernelspec": {
      "display_name": "Python 3",
      "name": "python3"
    },
    "language_info": {
      "codemirror_mode": {
        "name": "ipython",
        "version": 3
      },
      "file_extension": ".py",
      "mimetype": "text/x-python",
      "name": "python",
      "nbconvert_exporter": "python",
      "pygments_lexer": "ipython3",
      "version": "3.10.13"
    }
  },
  "nbformat": 4,
  "nbformat_minor": 0
}
