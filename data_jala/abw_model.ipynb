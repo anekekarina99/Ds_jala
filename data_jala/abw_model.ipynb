{
 "cells": [
  {
   "cell_type": "code",
   "execution_count": 1,
   "metadata": {},
   "outputs": [],
   "source": [
    "import pandas as pd"
   ]
  },
  {
   "cell_type": "code",
   "execution_count": 2,
   "metadata": {},
   "outputs": [],
   "source": [
    "data = pd.read_csv(\"data_abw.csv\")"
   ]
  },
  {
   "cell_type": "code",
   "execution_count": 3,
   "metadata": {},
   "outputs": [
    {
     "data": {
      "text/html": [
       "<div>\n",
       "<style scoped>\n",
       "    .dataframe tbody tr th:only-of-type {\n",
       "        vertical-align: middle;\n",
       "    }\n",
       "\n",
       "    .dataframe tbody tr th {\n",
       "        vertical-align: top;\n",
       "    }\n",
       "\n",
       "    .dataframe thead th {\n",
       "        text-align: right;\n",
       "    }\n",
       "</style>\n",
       "<table border=\"1\" class=\"dataframe\">\n",
       "  <thead>\n",
       "    <tr style=\"text-align: right;\">\n",
       "      <th></th>\n",
       "      <th>Unnamed: 0</th>\n",
       "      <th>cycle_id</th>\n",
       "      <th>bd_daya</th>\n",
       "      <th>tray_number</th>\n",
       "      <th>sum_sample_g</th>\n",
       "      <th>average_weight</th>\n",
       "    </tr>\n",
       "  </thead>\n",
       "  <tbody>\n",
       "    <tr>\n",
       "      <th>0</th>\n",
       "      <td>0</td>\n",
       "      <td>14437</td>\n",
       "      <td>62</td>\n",
       "      <td>1</td>\n",
       "      <td>10.568032</td>\n",
       "      <td>3.6</td>\n",
       "    </tr>\n",
       "    <tr>\n",
       "      <th>1</th>\n",
       "      <td>1</td>\n",
       "      <td>14437</td>\n",
       "      <td>62</td>\n",
       "      <td>2</td>\n",
       "      <td>10.568032</td>\n",
       "      <td>3.6</td>\n",
       "    </tr>\n",
       "    <tr>\n",
       "      <th>2</th>\n",
       "      <td>2</td>\n",
       "      <td>14437</td>\n",
       "      <td>62</td>\n",
       "      <td>4</td>\n",
       "      <td>10.568032</td>\n",
       "      <td>3.6</td>\n",
       "    </tr>\n",
       "    <tr>\n",
       "      <th>3</th>\n",
       "      <td>3</td>\n",
       "      <td>14437</td>\n",
       "      <td>62</td>\n",
       "      <td>3</td>\n",
       "      <td>10.568032</td>\n",
       "      <td>3.6</td>\n",
       "    </tr>\n",
       "    <tr>\n",
       "      <th>4</th>\n",
       "      <td>4</td>\n",
       "      <td>14437</td>\n",
       "      <td>62</td>\n",
       "      <td>2</td>\n",
       "      <td>10.568032</td>\n",
       "      <td>3.6</td>\n",
       "    </tr>\n",
       "  </tbody>\n",
       "</table>\n",
       "</div>"
      ],
      "text/plain": [
       "   Unnamed: 0  cycle_id  bd_daya  tray_number  sum_sample_g  average_weight\n",
       "0           0     14437       62            1     10.568032             3.6\n",
       "1           1     14437       62            2     10.568032             3.6\n",
       "2           2     14437       62            4     10.568032             3.6\n",
       "3           3     14437       62            3     10.568032             3.6\n",
       "4           4     14437       62            2     10.568032             3.6"
      ]
     },
     "execution_count": 3,
     "metadata": {},
     "output_type": "execute_result"
    }
   ],
   "source": [
    "data.head()"
   ]
  },
  {
   "cell_type": "code",
   "execution_count": 4,
   "metadata": {},
   "outputs": [
    {
     "data": {
      "text/html": [
       "<div>\n",
       "<style scoped>\n",
       "    .dataframe tbody tr th:only-of-type {\n",
       "        vertical-align: middle;\n",
       "    }\n",
       "\n",
       "    .dataframe tbody tr th {\n",
       "        vertical-align: top;\n",
       "    }\n",
       "\n",
       "    .dataframe thead th {\n",
       "        text-align: right;\n",
       "    }\n",
       "</style>\n",
       "<table border=\"1\" class=\"dataframe\">\n",
       "  <thead>\n",
       "    <tr style=\"text-align: right;\">\n",
       "      <th></th>\n",
       "      <th>Unnamed: 0</th>\n",
       "      <th>cycle_id</th>\n",
       "      <th>bd_daya</th>\n",
       "      <th>tray_number</th>\n",
       "      <th>sum_sample_g</th>\n",
       "      <th>average_weight</th>\n",
       "    </tr>\n",
       "  </thead>\n",
       "  <tbody>\n",
       "    <tr>\n",
       "      <th>Unnamed: 0</th>\n",
       "      <td>1.000000</td>\n",
       "      <td>0.487833</td>\n",
       "      <td>0.243081</td>\n",
       "      <td>-0.011358</td>\n",
       "      <td>0.058821</td>\n",
       "      <td>-0.102435</td>\n",
       "    </tr>\n",
       "    <tr>\n",
       "      <th>cycle_id</th>\n",
       "      <td>0.487833</td>\n",
       "      <td>1.000000</td>\n",
       "      <td>0.128479</td>\n",
       "      <td>-0.046985</td>\n",
       "      <td>-0.125097</td>\n",
       "      <td>0.061443</td>\n",
       "    </tr>\n",
       "    <tr>\n",
       "      <th>bd_daya</th>\n",
       "      <td>0.243081</td>\n",
       "      <td>0.128479</td>\n",
       "      <td>1.000000</td>\n",
       "      <td>0.028734</td>\n",
       "      <td>0.319086</td>\n",
       "      <td>0.268070</td>\n",
       "    </tr>\n",
       "    <tr>\n",
       "      <th>tray_number</th>\n",
       "      <td>-0.011358</td>\n",
       "      <td>-0.046985</td>\n",
       "      <td>0.028734</td>\n",
       "      <td>1.000000</td>\n",
       "      <td>0.005377</td>\n",
       "      <td>0.015685</td>\n",
       "    </tr>\n",
       "    <tr>\n",
       "      <th>sum_sample_g</th>\n",
       "      <td>0.058821</td>\n",
       "      <td>-0.125097</td>\n",
       "      <td>0.319086</td>\n",
       "      <td>0.005377</td>\n",
       "      <td>1.000000</td>\n",
       "      <td>0.283608</td>\n",
       "    </tr>\n",
       "    <tr>\n",
       "      <th>average_weight</th>\n",
       "      <td>-0.102435</td>\n",
       "      <td>0.061443</td>\n",
       "      <td>0.268070</td>\n",
       "      <td>0.015685</td>\n",
       "      <td>0.283608</td>\n",
       "      <td>1.000000</td>\n",
       "    </tr>\n",
       "  </tbody>\n",
       "</table>\n",
       "</div>"
      ],
      "text/plain": [
       "                Unnamed: 0  cycle_id   bd_daya  tray_number  sum_sample_g  \\\n",
       "Unnamed: 0        1.000000  0.487833  0.243081    -0.011358      0.058821   \n",
       "cycle_id          0.487833  1.000000  0.128479    -0.046985     -0.125097   \n",
       "bd_daya           0.243081  0.128479  1.000000     0.028734      0.319086   \n",
       "tray_number      -0.011358 -0.046985  0.028734     1.000000      0.005377   \n",
       "sum_sample_g      0.058821 -0.125097  0.319086     0.005377      1.000000   \n",
       "average_weight   -0.102435  0.061443  0.268070     0.015685      0.283608   \n",
       "\n",
       "                average_weight  \n",
       "Unnamed: 0           -0.102435  \n",
       "cycle_id              0.061443  \n",
       "bd_daya               0.268070  \n",
       "tray_number           0.015685  \n",
       "sum_sample_g          0.283608  \n",
       "average_weight        1.000000  "
      ]
     },
     "execution_count": 4,
     "metadata": {},
     "output_type": "execute_result"
    }
   ],
   "source": [
    "data.corr()"
   ]
  },
  {
   "cell_type": "code",
   "execution_count": 5,
   "metadata": {},
   "outputs": [],
   "source": [
    "data = data[['bd_daya','sum_sample_g','average_weight']]"
   ]
  },
  {
   "cell_type": "code",
   "execution_count": 6,
   "metadata": {},
   "outputs": [],
   "source": [
    "data['sum_sample_g'] = data['sum_sample_g']/1000"
   ]
  },
  {
   "cell_type": "code",
   "execution_count": 7,
   "metadata": {},
   "outputs": [],
   "source": [
    "from sklearn.preprocessing import   MinMaxScaler\n",
    "import pandas as pd\n",
    "\n",
    "\n",
    "# create a StandardScaler object\n",
    "scaler = MinMaxScaler()\n",
    "\n",
    "# fit and transform the data\n",
    "scaled_data = scaler.fit_transform(data)\n",
    "\n",
    "# create a new DataFrame with the scaled data\n",
    "scaled_df = pd.DataFrame(scaled_data, columns=data.columns)\n",
    "data=scaled_df"
   ]
  },
  {
   "cell_type": "code",
   "execution_count": 8,
   "metadata": {},
   "outputs": [],
   "source": [
    "from sklearn.preprocessing import StandardScaler\n",
    "import pandas as pd\n",
    "\n",
    "\n",
    "# create a StandardScaler object\n",
    "scaler = StandardScaler()\n",
    "\n",
    "# fit and transform the data\n",
    "scaled_data = scaler.fit_transform(data)\n",
    "\n",
    "# create a new DataFrame with the scaled data\n",
    "scaled_df = pd.DataFrame(scaled_data, columns=data.columns)\n",
    "data=scaled_df"
   ]
  },
  {
   "cell_type": "code",
   "execution_count": 9,
   "metadata": {},
   "outputs": [],
   "source": [
    "# Impor pustaka yang diperlukan\n",
    "import numpy as np\n",
    "from sklearn.model_selection import train_test_split\n",
    "from sklearn.linear_model import LinearRegression\n",
    "from sklearn.preprocessing import PolynomialFeatures\n",
    "from sklearn.ensemble import RandomForestRegressor\n",
    "from sklearn.metrics import mean_squared_error, r2_score\n",
    "\n",
    "# Buat dataset contoh\n",
    "\n",
    "X = data.drop(columns=['average_weight'], axis=1)  # Fitur\n",
    "y = data['average_weight']  # Target dengan noise\n",
    "\n",
    "# Bagi dataset menjadi data latih dan data uji\n",
    "X_train, X_test, y_train, y_test = train_test_split(X, y, test_size=0.2, random_state=40)\n"
   ]
  },
  {
   "cell_type": "code",
   "execution_count": 10,
   "metadata": {},
   "outputs": [
    {
     "name": "stdout",
     "output_type": "stream",
     "text": [
      "Mean Squared Error: 0.017423455238787074\n"
     ]
    }
   ],
   "source": [
    "from sklearn.tree import DecisionTreeRegressor\n",
    "\n",
    "# Inisialisasi model\n",
    "model = DecisionTreeRegressor()\n",
    "\n",
    "# Melatih model\n",
    "model.fit(X_train, y_train)\n",
    "\n",
    "# Melakukan prediksi\n",
    "y_pred = model.predict(X_train)\n",
    "\n",
    "# Evaluasi model\n",
    "mse = mean_squared_error(y_train, y_pred)\n",
    "print(\"Mean Squared Error:\", mse)\n"
   ]
  },
  {
   "cell_type": "code",
   "execution_count": 11,
   "metadata": {},
   "outputs": [
    {
     "name": "stdout",
     "output_type": "stream",
     "text": [
      "Mean Squared Error: 0.017428948787161103\n"
     ]
    }
   ],
   "source": [
    "# Inisialisasi model\n",
    "model = RandomForestRegressor()\n",
    "\n",
    "# Melatih model\n",
    "model.fit(X_train, y_train)\n",
    "\n",
    "# Melakukan prediksi\n",
    "y_pred = model.predict(X_train)\n",
    "\n",
    "# Evaluasi model\n",
    "mse = mean_squared_error(y_train, y_pred)\n",
    "print(\"Mean Squared Error:\", mse)\n"
   ]
  },
  {
   "cell_type": "code",
   "execution_count": 12,
   "metadata": {},
   "outputs": [
    {
     "name": "stdout",
     "output_type": "stream",
     "text": [
      "Mean Squared Error: 0.01742914826036487\n",
      "Mean Squared Error: 0.01742914826036487\n"
     ]
    }
   ],
   "source": [
    "import xgboost as xgb\n",
    "\n",
    "# Convert data menjadi DMatrix\n",
    "dtrain = xgb.DMatrix(X_train, label=y_train)\n",
    "\n",
    "# Set parameter XGBoost\n",
    "param = {'objective': 'reg:squarederror', 'eval_metric': 'rmse'}\n",
    "\n",
    "# Training model\n",
    "num_round = 100\n",
    "model = xgb.train(param, dtrain, num_round)\n",
    "\n",
    "# Melakukan prediksi\n",
    "y_pred = model.predict(dtrain)\n",
    "\n",
    "# Evaluasi model\n",
    "mse = mean_squared_error(y_train, y_pred)\n",
    "print(\"Mean Squared Error:\", mse)\n",
    "# Evaluasi model\n",
    "mse = mean_squared_error(y_train, y_pred)\n",
    "print(\"Mean Squared Error:\", mse)\n"
   ]
  },
  {
   "cell_type": "code",
   "execution_count": 13,
   "metadata": {},
   "outputs": [],
   "source": [
    "from flask import Flask, request, jsonify\n",
    "from sklearn.linear_model import LinearRegression\n",
    "import joblib\n",
    "\n",
    "\n",
    "\n",
    "joblib.dump(model, 'abw_model.joblib')\n",
    "\n",
    "# Load pre-trained machine learning model\n",
    "model = joblib.load('abw_model.joblib')"
   ]
  }
 ],
 "metadata": {
  "kernelspec": {
   "display_name": "Python 3",
   "language": "python",
   "name": "python3"
  },
  "language_info": {
   "codemirror_mode": {
    "name": "ipython",
    "version": 3
   },
   "file_extension": ".py",
   "mimetype": "text/x-python",
   "name": "python",
   "nbconvert_exporter": "python",
   "pygments_lexer": "ipython3",
   "version": "3.10.13"
  }
 },
 "nbformat": 4,
 "nbformat_minor": 2
}
