{
 "cells": [
  {
   "cell_type": "code",
   "execution_count": 25,
   "metadata": {},
   "outputs": [],
   "source": [
    "import pandas as pd"
   ]
  },
  {
   "cell_type": "code",
   "execution_count": 26,
   "metadata": {},
   "outputs": [],
   "source": [
    "data = pd.read_csv(\"data_sr_f.csv\")"
   ]
  },
  {
   "cell_type": "code",
   "execution_count": 27,
   "metadata": {},
   "outputs": [
    {
     "data": {
      "text/html": [
       "<div>\n",
       "<style scoped>\n",
       "    .dataframe tbody tr th:only-of-type {\n",
       "        vertical-align: middle;\n",
       "    }\n",
       "\n",
       "    .dataframe tbody tr th {\n",
       "        vertical-align: top;\n",
       "    }\n",
       "\n",
       "    .dataframe thead th {\n",
       "        text-align: right;\n",
       "    }\n",
       "</style>\n",
       "<table border=\"1\" class=\"dataframe\">\n",
       "  <thead>\n",
       "    <tr style=\"text-align: right;\">\n",
       "      <th></th>\n",
       "      <th>Unnamed: 0</th>\n",
       "      <th>cul_day</th>\n",
       "      <th>quantity</th>\n",
       "      <th>weight</th>\n",
       "      <th>ekor</th>\n",
       "      <th>average_weight</th>\n",
       "      <th>sr%</th>\n",
       "    </tr>\n",
       "  </thead>\n",
       "  <tbody>\n",
       "    <tr>\n",
       "      <th>0</th>\n",
       "      <td>0</td>\n",
       "      <td>100.0</td>\n",
       "      <td>1.6</td>\n",
       "      <td>132.00</td>\n",
       "      <td>1</td>\n",
       "      <td>1.67</td>\n",
       "      <td>0.002292</td>\n",
       "    </tr>\n",
       "    <tr>\n",
       "      <th>1</th>\n",
       "      <td>1</td>\n",
       "      <td>153.0</td>\n",
       "      <td>1.6</td>\n",
       "      <td>267.39</td>\n",
       "      <td>4</td>\n",
       "      <td>3.78</td>\n",
       "      <td>0.002292</td>\n",
       "    </tr>\n",
       "    <tr>\n",
       "      <th>2</th>\n",
       "      <td>2</td>\n",
       "      <td>153.0</td>\n",
       "      <td>1.9</td>\n",
       "      <td>269.10</td>\n",
       "      <td>5</td>\n",
       "      <td>3.88</td>\n",
       "      <td>0.002292</td>\n",
       "    </tr>\n",
       "    <tr>\n",
       "      <th>3</th>\n",
       "      <td>3</td>\n",
       "      <td>153.0</td>\n",
       "      <td>1.9</td>\n",
       "      <td>476.65</td>\n",
       "      <td>11</td>\n",
       "      <td>4.08</td>\n",
       "      <td>0.002292</td>\n",
       "    </tr>\n",
       "    <tr>\n",
       "      <th>4</th>\n",
       "      <td>4</td>\n",
       "      <td>153.0</td>\n",
       "      <td>0.6</td>\n",
       "      <td>592.60</td>\n",
       "      <td>17</td>\n",
       "      <td>4.00</td>\n",
       "      <td>0.002292</td>\n",
       "    </tr>\n",
       "  </tbody>\n",
       "</table>\n",
       "</div>"
      ],
      "text/plain": [
       "   Unnamed: 0  cul_day  quantity  weight  ekor  average_weight       sr%\n",
       "0           0    100.0       1.6  132.00     1            1.67  0.002292\n",
       "1           1    153.0       1.6  267.39     4            3.78  0.002292\n",
       "2           2    153.0       1.9  269.10     5            3.88  0.002292\n",
       "3           3    153.0       1.9  476.65    11            4.08  0.002292\n",
       "4           4    153.0       0.6  592.60    17            4.00  0.002292"
      ]
     },
     "execution_count": 27,
     "metadata": {},
     "output_type": "execute_result"
    }
   ],
   "source": [
    "data.head()"
   ]
  },
  {
   "cell_type": "code",
   "execution_count": 28,
   "metadata": {},
   "outputs": [],
   "source": [
    "data = data[['average_weight','sr%']].fillna(0)"
   ]
  },
  {
   "cell_type": "code",
   "execution_count": 29,
   "metadata": {},
   "outputs": [],
   "source": [
    "from sklearn.preprocessing import StandardScaler\n",
    "import pandas as pd\n",
    "\n",
    "\n",
    "# create a StandardScaler object\n",
    "scaler = StandardScaler()\n",
    "\n",
    "# fit and transform the data\n",
    "scaled_data = scaler.fit_transform(data)\n",
    "\n",
    "# create a new DataFrame with the scaled data\n",
    "scaled_df = pd.DataFrame(scaled_data, columns=data.columns)\n",
    "data=scaled_df"
   ]
  },
  {
   "cell_type": "code",
   "execution_count": 30,
   "metadata": {},
   "outputs": [],
   "source": [
    "from sklearn.preprocessing import   MinMaxScaler\n",
    "import pandas as pd\n",
    "\n",
    "\n",
    "# create a StandardScaler object\n",
    "scaler = MinMaxScaler()\n",
    "\n",
    "# fit and transform the data\n",
    "scaled_data = scaler.fit_transform(data)\n",
    "\n",
    "# create a new DataFrame with the scaled data\n",
    "scaled_df = pd.DataFrame(scaled_data, columns=data.columns)\n",
    "data=scaled_df"
   ]
  },
  {
   "cell_type": "code",
   "execution_count": 31,
   "metadata": {},
   "outputs": [
    {
     "data": {
      "text/html": [
       "<div>\n",
       "<style scoped>\n",
       "    .dataframe tbody tr th:only-of-type {\n",
       "        vertical-align: middle;\n",
       "    }\n",
       "\n",
       "    .dataframe tbody tr th {\n",
       "        vertical-align: top;\n",
       "    }\n",
       "\n",
       "    .dataframe thead th {\n",
       "        text-align: right;\n",
       "    }\n",
       "</style>\n",
       "<table border=\"1\" class=\"dataframe\">\n",
       "  <thead>\n",
       "    <tr style=\"text-align: right;\">\n",
       "      <th></th>\n",
       "      <th>average_weight</th>\n",
       "      <th>sr%</th>\n",
       "    </tr>\n",
       "  </thead>\n",
       "  <tbody>\n",
       "    <tr>\n",
       "      <th>0</th>\n",
       "      <td>0.000000</td>\n",
       "      <td>0.045838</td>\n",
       "    </tr>\n",
       "    <tr>\n",
       "      <th>1</th>\n",
       "      <td>0.094323</td>\n",
       "      <td>0.045838</td>\n",
       "    </tr>\n",
       "    <tr>\n",
       "      <th>2</th>\n",
       "      <td>0.098793</td>\n",
       "      <td>0.045838</td>\n",
       "    </tr>\n",
       "    <tr>\n",
       "      <th>3</th>\n",
       "      <td>0.107734</td>\n",
       "      <td>0.045838</td>\n",
       "    </tr>\n",
       "    <tr>\n",
       "      <th>4</th>\n",
       "      <td>0.104157</td>\n",
       "      <td>0.045838</td>\n",
       "    </tr>\n",
       "  </tbody>\n",
       "</table>\n",
       "</div>"
      ],
      "text/plain": [
       "   average_weight       sr%\n",
       "0        0.000000  0.045838\n",
       "1        0.094323  0.045838\n",
       "2        0.098793  0.045838\n",
       "3        0.107734  0.045838\n",
       "4        0.104157  0.045838"
      ]
     },
     "execution_count": 31,
     "metadata": {},
     "output_type": "execute_result"
    }
   ],
   "source": [
    "data.head()"
   ]
  },
  {
   "cell_type": "code",
   "execution_count": 32,
   "metadata": {},
   "outputs": [],
   "source": [
    "# Impor pustaka yang diperlukan\n",
    "import numpy as np\n",
    "from sklearn.model_selection import train_test_split\n",
    "from sklearn.linear_model import LinearRegression\n",
    "from sklearn.preprocessing import PolynomialFeatures\n",
    "from sklearn.ensemble import RandomForestRegressor\n",
    "from sklearn.metrics import mean_squared_error, r2_score\n",
    "\n",
    "# Buat dataset contoh\n",
    "\n",
    "X = data.drop(columns=['sr%'], axis=1).astype(int)  # Fitur\n",
    "y = data['sr%']  # Target dengan noise\n",
    "\n",
    "# Bagi dataset menjadi data latih dan data uji\n",
    "X_train, X_test, y_train, y_test = train_test_split(X, y, test_size=0.2, random_state=40)\n"
   ]
  },
  {
   "cell_type": "code",
   "execution_count": 33,
   "metadata": {},
   "outputs": [
    {
     "name": "stdout",
     "output_type": "stream",
     "text": [
      "Mean Squared Error: 0.022513136715942905\n"
     ]
    }
   ],
   "source": [
    "from sklearn.tree import DecisionTreeRegressor\n",
    "\n",
    "# Inisialisasi model\n",
    "model = DecisionTreeRegressor()\n",
    "\n",
    "# Melatih model\n",
    "model.fit(X_train, y_train)\n",
    "\n",
    "# Melakukan prediksi\n",
    "y_pred = model.predict(X_train)\n",
    "\n",
    "# Evaluasi model\n",
    "mse = mean_squared_error(y_train, y_pred)\n",
    "print(\"Mean Squared Error:\", mse)\n"
   ]
  },
  {
   "cell_type": "code",
   "execution_count": 34,
   "metadata": {},
   "outputs": [
    {
     "name": "stdout",
     "output_type": "stream",
     "text": [
      "Mean Squared Error: 0.022513136896235544\n"
     ]
    }
   ],
   "source": [
    "# Inisialisasi model\n",
    "model = RandomForestRegressor()\n",
    "\n",
    "# Melatih model\n",
    "model.fit(X_train, y_train)\n",
    "\n",
    "# Melakukan prediksi\n",
    "y_pred = model.predict(X_train)\n",
    "\n",
    "# Evaluasi model\n",
    "mse = mean_squared_error(y_train, y_pred)\n",
    "print(\"Mean Squared Error:\", mse)\n"
   ]
  },
  {
   "cell_type": "code",
   "execution_count": 35,
   "metadata": {},
   "outputs": [
    {
     "name": "stdout",
     "output_type": "stream",
     "text": [
      "Mean Squared Error: 0.022513136715942923\n",
      "Mean Squared Error: 0.022513136715942923\n"
     ]
    }
   ],
   "source": [
    "import xgboost as xgb\n",
    "\n",
    "# Convert data menjadi DMatrix\n",
    "dtrain = xgb.DMatrix(X_train, label=y_train)\n",
    "\n",
    "# Set parameter XGBoost\n",
    "param = {'objective': 'reg:squarederror', 'eval_metric': 'rmse'}\n",
    "\n",
    "# Training model\n",
    "num_round = 100\n",
    "model = xgb.train(param, dtrain, num_round)\n",
    "\n",
    "# Melakukan prediksi\n",
    "y_pred = model.predict(dtrain)\n",
    "\n",
    "# Evaluasi model\n",
    "mse = mean_squared_error(y_train, y_pred)\n",
    "print(\"Mean Squared Error:\", mse)\n",
    "# Evaluasi model\n",
    "mse = mean_squared_error(y_train, y_pred)\n",
    "print(\"Mean Squared Error:\", mse)\n"
   ]
  },
  {
   "cell_type": "code",
   "execution_count": 36,
   "metadata": {},
   "outputs": [],
   "source": [
    "from flask import Flask, request, jsonify\n",
    "from sklearn.linear_model import LinearRegression\n",
    "import joblib\n",
    "\n",
    "\n",
    "\n",
    "joblib.dump(model, 'sr_model.joblib')\n",
    "\n",
    "# Load pre-trained machine learning model\n",
    "model = joblib.load('sr_model.joblib')"
   ]
  }
 ],
 "metadata": {
  "kernelspec": {
   "display_name": "Python 3",
   "language": "python",
   "name": "python3"
  },
  "language_info": {
   "codemirror_mode": {
    "name": "ipython",
    "version": 3
   },
   "file_extension": ".py",
   "mimetype": "text/x-python",
   "name": "python",
   "nbconvert_exporter": "python",
   "pygments_lexer": "ipython3",
   "version": "3.10.13"
  }
 },
 "nbformat": 4,
 "nbformat_minor": 2
}
