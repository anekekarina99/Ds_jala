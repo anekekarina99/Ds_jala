{
 "cells": [
  {
   "cell_type": "code",
   "execution_count": null,
   "metadata": {},
   "outputs": [],
   "source": []
  },
  {
   "cell_type": "code",
   "execution_count": 2,
   "metadata": {},
   "outputs": [
    {
     "name": "stdout",
     "output_type": "stream",
     "text": [
      "   id  column1  column2  column3  column4  column5  column6\n",
      "0   1       10       40       70      100      130      160\n",
      "1   2       20       50       80      110      140      170\n",
      "2   3       30       60       90      120      150      180\n"
     ]
    }
   ],
   "source": [
    "import pandas as pd\n",
    "\n",
    "# assume you have 6 dataframes with a common 'id' column\n",
    "df1 = pd.DataFrame({'id': [1, 2, 3], 'column1': [10, 20, 30]})\n",
    "df2 = pd.DataFrame({'id': [1, 2, 3], 'column2': [40, 50, 60]})\n",
    "df3 = pd.DataFrame({'id': [1, 2, 3], 'column3': [70, 80, 90]})\n",
    "df4 = pd.DataFrame({'id': [1, 2, 3], 'column4': [100, 110, 120]})\n",
    "df5 = pd.DataFrame({'id': [1, 2, 3], 'column5': [130, 140, 150]})\n",
    "df6 = pd.DataFrame({'id': [1, 2, 3], 'column6': [160, 170, 180]})\n",
    "\n",
    "# merge the dataframes\n",
    "merged_df = df1.merge(df2, on='id').merge(df3, on='id').merge(df4, on='id').merge(df5, on='id').merge(df6, on='id')\n",
    "\n",
    "print(merged_df)"
   ]
  }
 ],
 "metadata": {
  "kernelspec": {
   "display_name": "Python 3",
   "language": "python",
   "name": "python3"
  },
  "language_info": {
   "codemirror_mode": {
    "name": "ipython",
    "version": 3
   },
   "file_extension": ".py",
   "mimetype": "text/x-python",
   "name": "python",
   "nbconvert_exporter": "python",
   "pygments_lexer": "ipython3",
   "version": "3.10.13"
  }
 },
 "nbformat": 4,
 "nbformat_minor": 2
}
